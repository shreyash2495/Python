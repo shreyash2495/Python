{
 "cells": [
  {
   "cell_type": "code",
   "execution_count": 1,
   "metadata": {},
   "outputs": [],
   "source": [
    "# Importing libraries\n",
    "\n",
    "import pandas as pd\n",
    "import numpy as np\n",
    "import seaborn as sns"
   ]
  },
  {
   "cell_type": "code",
   "execution_count": 2,
   "metadata": {},
   "outputs": [
    {
     "data": {
      "text/html": [
       "<div>\n",
       "<style scoped>\n",
       "    .dataframe tbody tr th:only-of-type {\n",
       "        vertical-align: middle;\n",
       "    }\n",
       "\n",
       "    .dataframe tbody tr th {\n",
       "        vertical-align: top;\n",
       "    }\n",
       "\n",
       "    .dataframe thead th {\n",
       "        text-align: right;\n",
       "    }\n",
       "</style>\n",
       "<table border=\"1\" class=\"dataframe\">\n",
       "  <thead>\n",
       "    <tr style=\"text-align: right;\">\n",
       "      <th></th>\n",
       "      <th>department</th>\n",
       "      <th>region</th>\n",
       "      <th>education</th>\n",
       "      <th>gender</th>\n",
       "      <th>recruitment_channel</th>\n",
       "      <th>no_of_trainings</th>\n",
       "      <th>age</th>\n",
       "      <th>previous_year_rating</th>\n",
       "      <th>length_of_service</th>\n",
       "      <th>KPIs_met &gt;80%</th>\n",
       "      <th>awards_won?</th>\n",
       "      <th>avg_training_score</th>\n",
       "      <th>is_promoted</th>\n",
       "    </tr>\n",
       "    <tr>\n",
       "      <th>employee_id</th>\n",
       "      <th></th>\n",
       "      <th></th>\n",
       "      <th></th>\n",
       "      <th></th>\n",
       "      <th></th>\n",
       "      <th></th>\n",
       "      <th></th>\n",
       "      <th></th>\n",
       "      <th></th>\n",
       "      <th></th>\n",
       "      <th></th>\n",
       "      <th></th>\n",
       "      <th></th>\n",
       "    </tr>\n",
       "  </thead>\n",
       "  <tbody>\n",
       "    <tr>\n",
       "      <td>65438</td>\n",
       "      <td>Sales &amp; Marketing</td>\n",
       "      <td>region_7</td>\n",
       "      <td>Master's &amp; above</td>\n",
       "      <td>f</td>\n",
       "      <td>sourcing</td>\n",
       "      <td>1</td>\n",
       "      <td>35</td>\n",
       "      <td>5.0</td>\n",
       "      <td>8</td>\n",
       "      <td>1</td>\n",
       "      <td>0</td>\n",
       "      <td>49</td>\n",
       "      <td>0</td>\n",
       "    </tr>\n",
       "    <tr>\n",
       "      <td>65141</td>\n",
       "      <td>Operations</td>\n",
       "      <td>region_22</td>\n",
       "      <td>Bachelor's</td>\n",
       "      <td>m</td>\n",
       "      <td>other</td>\n",
       "      <td>1</td>\n",
       "      <td>30</td>\n",
       "      <td>5.0</td>\n",
       "      <td>4</td>\n",
       "      <td>0</td>\n",
       "      <td>0</td>\n",
       "      <td>60</td>\n",
       "      <td>0</td>\n",
       "    </tr>\n",
       "    <tr>\n",
       "      <td>7513</td>\n",
       "      <td>Sales &amp; Marketing</td>\n",
       "      <td>region_19</td>\n",
       "      <td>Bachelor's</td>\n",
       "      <td>m</td>\n",
       "      <td>sourcing</td>\n",
       "      <td>1</td>\n",
       "      <td>34</td>\n",
       "      <td>3.0</td>\n",
       "      <td>7</td>\n",
       "      <td>0</td>\n",
       "      <td>0</td>\n",
       "      <td>50</td>\n",
       "      <td>0</td>\n",
       "    </tr>\n",
       "    <tr>\n",
       "      <td>2542</td>\n",
       "      <td>Sales &amp; Marketing</td>\n",
       "      <td>region_23</td>\n",
       "      <td>Bachelor's</td>\n",
       "      <td>m</td>\n",
       "      <td>other</td>\n",
       "      <td>2</td>\n",
       "      <td>39</td>\n",
       "      <td>1.0</td>\n",
       "      <td>10</td>\n",
       "      <td>0</td>\n",
       "      <td>0</td>\n",
       "      <td>50</td>\n",
       "      <td>0</td>\n",
       "    </tr>\n",
       "    <tr>\n",
       "      <td>48945</td>\n",
       "      <td>Technology</td>\n",
       "      <td>region_26</td>\n",
       "      <td>Bachelor's</td>\n",
       "      <td>m</td>\n",
       "      <td>other</td>\n",
       "      <td>1</td>\n",
       "      <td>45</td>\n",
       "      <td>3.0</td>\n",
       "      <td>2</td>\n",
       "      <td>0</td>\n",
       "      <td>0</td>\n",
       "      <td>73</td>\n",
       "      <td>0</td>\n",
       "    </tr>\n",
       "  </tbody>\n",
       "</table>\n",
       "</div>"
      ],
      "text/plain": [
       "                    department     region         education gender  \\\n",
       "employee_id                                                          \n",
       "65438        Sales & Marketing   region_7  Master's & above      f   \n",
       "65141               Operations  region_22        Bachelor's      m   \n",
       "7513         Sales & Marketing  region_19        Bachelor's      m   \n",
       "2542         Sales & Marketing  region_23        Bachelor's      m   \n",
       "48945               Technology  region_26        Bachelor's      m   \n",
       "\n",
       "            recruitment_channel  no_of_trainings  age  previous_year_rating  \\\n",
       "employee_id                                                                   \n",
       "65438                  sourcing                1   35                   5.0   \n",
       "65141                     other                1   30                   5.0   \n",
       "7513                   sourcing                1   34                   3.0   \n",
       "2542                      other                2   39                   1.0   \n",
       "48945                     other                1   45                   3.0   \n",
       "\n",
       "             length_of_service  KPIs_met >80%  awards_won?  \\\n",
       "employee_id                                                  \n",
       "65438                        8              1            0   \n",
       "65141                        4              0            0   \n",
       "7513                         7              0            0   \n",
       "2542                        10              0            0   \n",
       "48945                        2              0            0   \n",
       "\n",
       "             avg_training_score  is_promoted  \n",
       "employee_id                                   \n",
       "65438                        49            0  \n",
       "65141                        60            0  \n",
       "7513                         50            0  \n",
       "2542                         50            0  \n",
       "48945                        73            0  "
      ]
     },
     "execution_count": 2,
     "metadata": {},
     "output_type": "execute_result"
    }
   ],
   "source": [
    "# Loading the data\n",
    "\n",
    "hr_train = pd.read_csv(r\"C:\\Python\\train_hr.csv\",header = 0,index_col = 0)\n",
    "hr_train.head()"
   ]
  },
  {
   "cell_type": "code",
   "execution_count": 3,
   "metadata": {},
   "outputs": [
    {
     "data": {
      "text/plain": [
       "(54808, 13)"
      ]
     },
     "execution_count": 3,
     "metadata": {},
     "output_type": "execute_result"
    }
   ],
   "source": [
    "hr_train.shape"
   ]
  },
  {
   "cell_type": "code",
   "execution_count": 4,
   "metadata": {},
   "outputs": [
    {
     "data": {
      "text/plain": [
       "(54808, 12)"
      ]
     },
     "execution_count": 4,
     "metadata": {},
     "output_type": "execute_result"
    }
   ],
   "source": [
    "# Dropping the gender variable as the promotion given will on be performance and not on gender basis\n",
    "hr_train.drop('gender',axis=1,inplace=True)\n",
    "hr_train.shape"
   ]
  },
  {
   "cell_type": "code",
   "execution_count": 5,
   "metadata": {},
   "outputs": [],
   "source": [
    "# copy of dataframe hr_train\n",
    "\n",
    "hr_train1 = hr_train.copy()"
   ]
  },
  {
   "cell_type": "code",
   "execution_count": 6,
   "metadata": {},
   "outputs": [
    {
     "data": {
      "text/plain": [
       "department                 0\n",
       "region                     0\n",
       "education               2409\n",
       "recruitment_channel        0\n",
       "no_of_trainings            0\n",
       "age                        0\n",
       "previous_year_rating    4124\n",
       "length_of_service          0\n",
       "KPIs_met >80%              0\n",
       "awards_won?                0\n",
       "avg_training_score         0\n",
       "is_promoted                0\n",
       "dtype: int64"
      ]
     },
     "execution_count": 6,
     "metadata": {},
     "output_type": "execute_result"
    }
   ],
   "source": [
    "# checking the null values\n",
    "\n",
    "hr_train1.isnull().sum()"
   ]
  },
  {
   "cell_type": "code",
   "execution_count": 7,
   "metadata": {},
   "outputs": [],
   "source": [
    "# filling the missing value with mode as education is a categorical variable\n",
    "\n",
    "hr_train1[\"education\"].fillna(hr_train1[\"education\"].mode()[0],inplace=True)\n",
    "\n",
    "# filling the missing the value with zero as it is a numeric variable\n",
    "hr_train1[\"previous_year_rating\"].fillna(0,inplace=True)"
   ]
  },
  {
   "cell_type": "code",
   "execution_count": 8,
   "metadata": {},
   "outputs": [
    {
     "data": {
      "text/plain": [
       "department              0\n",
       "region                  0\n",
       "education               0\n",
       "recruitment_channel     0\n",
       "no_of_trainings         0\n",
       "age                     0\n",
       "previous_year_rating    0\n",
       "length_of_service       0\n",
       "KPIs_met >80%           0\n",
       "awards_won?             0\n",
       "avg_training_score      0\n",
       "is_promoted             0\n",
       "dtype: int64"
      ]
     },
     "execution_count": 8,
     "metadata": {},
     "output_type": "execute_result"
    }
   ],
   "source": [
    "hr_train1.isnull().sum()"
   ]
  },
  {
   "cell_type": "code",
   "execution_count": 9,
   "metadata": {},
   "outputs": [
    {
     "data": {
      "text/plain": [
       "['department', 'region', 'education', 'recruitment_channel']"
      ]
     },
     "execution_count": 9,
     "metadata": {},
     "output_type": "execute_result"
    }
   ],
   "source": [
    "colname = ['department',\n",
    "'region', 'education',\n",
    "'recruitment_channel']\n",
    "colname"
   ]
  },
  {
   "cell_type": "code",
   "execution_count": 10,
   "metadata": {},
   "outputs": [],
   "source": [
    "# For preprocessing the data using label Encoder to convert categorical varibale to numeric\n",
    "\n",
    "from sklearn.preprocessing import LabelEncoder\n",
    "\n",
    "le = LabelEncoder()\n",
    "\n",
    "for x in colname:\n",
    "        hr_train1[x]=le.fit_transform(hr_train1[x])"
   ]
  },
  {
   "cell_type": "code",
   "execution_count": 11,
   "metadata": {},
   "outputs": [
    {
     "data": {
      "text/html": [
       "<div>\n",
       "<style scoped>\n",
       "    .dataframe tbody tr th:only-of-type {\n",
       "        vertical-align: middle;\n",
       "    }\n",
       "\n",
       "    .dataframe tbody tr th {\n",
       "        vertical-align: top;\n",
       "    }\n",
       "\n",
       "    .dataframe thead th {\n",
       "        text-align: right;\n",
       "    }\n",
       "</style>\n",
       "<table border=\"1\" class=\"dataframe\">\n",
       "  <thead>\n",
       "    <tr style=\"text-align: right;\">\n",
       "      <th></th>\n",
       "      <th>department</th>\n",
       "      <th>region</th>\n",
       "      <th>education</th>\n",
       "      <th>recruitment_channel</th>\n",
       "      <th>no_of_trainings</th>\n",
       "      <th>age</th>\n",
       "      <th>previous_year_rating</th>\n",
       "      <th>length_of_service</th>\n",
       "      <th>KPIs_met &gt;80%</th>\n",
       "      <th>awards_won?</th>\n",
       "      <th>avg_training_score</th>\n",
       "      <th>is_promoted</th>\n",
       "    </tr>\n",
       "    <tr>\n",
       "      <th>employee_id</th>\n",
       "      <th></th>\n",
       "      <th></th>\n",
       "      <th></th>\n",
       "      <th></th>\n",
       "      <th></th>\n",
       "      <th></th>\n",
       "      <th></th>\n",
       "      <th></th>\n",
       "      <th></th>\n",
       "      <th></th>\n",
       "      <th></th>\n",
       "      <th></th>\n",
       "    </tr>\n",
       "  </thead>\n",
       "  <tbody>\n",
       "    <tr>\n",
       "      <td>65438</td>\n",
       "      <td>7</td>\n",
       "      <td>31</td>\n",
       "      <td>2</td>\n",
       "      <td>2</td>\n",
       "      <td>1</td>\n",
       "      <td>35</td>\n",
       "      <td>5.0</td>\n",
       "      <td>8</td>\n",
       "      <td>1</td>\n",
       "      <td>0</td>\n",
       "      <td>49</td>\n",
       "      <td>0</td>\n",
       "    </tr>\n",
       "    <tr>\n",
       "      <td>65141</td>\n",
       "      <td>4</td>\n",
       "      <td>14</td>\n",
       "      <td>0</td>\n",
       "      <td>0</td>\n",
       "      <td>1</td>\n",
       "      <td>30</td>\n",
       "      <td>5.0</td>\n",
       "      <td>4</td>\n",
       "      <td>0</td>\n",
       "      <td>0</td>\n",
       "      <td>60</td>\n",
       "      <td>0</td>\n",
       "    </tr>\n",
       "    <tr>\n",
       "      <td>7513</td>\n",
       "      <td>7</td>\n",
       "      <td>10</td>\n",
       "      <td>0</td>\n",
       "      <td>2</td>\n",
       "      <td>1</td>\n",
       "      <td>34</td>\n",
       "      <td>3.0</td>\n",
       "      <td>7</td>\n",
       "      <td>0</td>\n",
       "      <td>0</td>\n",
       "      <td>50</td>\n",
       "      <td>0</td>\n",
       "    </tr>\n",
       "    <tr>\n",
       "      <td>2542</td>\n",
       "      <td>7</td>\n",
       "      <td>15</td>\n",
       "      <td>0</td>\n",
       "      <td>0</td>\n",
       "      <td>2</td>\n",
       "      <td>39</td>\n",
       "      <td>1.0</td>\n",
       "      <td>10</td>\n",
       "      <td>0</td>\n",
       "      <td>0</td>\n",
       "      <td>50</td>\n",
       "      <td>0</td>\n",
       "    </tr>\n",
       "    <tr>\n",
       "      <td>48945</td>\n",
       "      <td>8</td>\n",
       "      <td>18</td>\n",
       "      <td>0</td>\n",
       "      <td>0</td>\n",
       "      <td>1</td>\n",
       "      <td>45</td>\n",
       "      <td>3.0</td>\n",
       "      <td>2</td>\n",
       "      <td>0</td>\n",
       "      <td>0</td>\n",
       "      <td>73</td>\n",
       "      <td>0</td>\n",
       "    </tr>\n",
       "  </tbody>\n",
       "</table>\n",
       "</div>"
      ],
      "text/plain": [
       "             department  region  education  recruitment_channel  \\\n",
       "employee_id                                                       \n",
       "65438                 7      31          2                    2   \n",
       "65141                 4      14          0                    0   \n",
       "7513                  7      10          0                    2   \n",
       "2542                  7      15          0                    0   \n",
       "48945                 8      18          0                    0   \n",
       "\n",
       "             no_of_trainings  age  previous_year_rating  length_of_service  \\\n",
       "employee_id                                                                  \n",
       "65438                      1   35                   5.0                  8   \n",
       "65141                      1   30                   5.0                  4   \n",
       "7513                       1   34                   3.0                  7   \n",
       "2542                       2   39                   1.0                 10   \n",
       "48945                      1   45                   3.0                  2   \n",
       "\n",
       "             KPIs_met >80%  awards_won?  avg_training_score  is_promoted  \n",
       "employee_id                                                               \n",
       "65438                    1            0                  49            0  \n",
       "65141                    0            0                  60            0  \n",
       "7513                     0            0                  50            0  \n",
       "2542                     0            0                  50            0  \n",
       "48945                    0            0                  73            0  "
      ]
     },
     "execution_count": 11,
     "metadata": {},
     "output_type": "execute_result"
    }
   ],
   "source": [
    "hr_train1.head()"
   ]
  },
  {
   "cell_type": "code",
   "execution_count": 12,
   "metadata": {},
   "outputs": [],
   "source": [
    "# Splitting the data into X & Y\n",
    "\n",
    "X = hr_train1.values[:,:-1]\n",
    "Y = hr_train1.values[:,-1]"
   ]
  },
  {
   "cell_type": "code",
   "execution_count": 13,
   "metadata": {},
   "outputs": [
    {
     "name": "stdout",
     "output_type": "stream",
     "text": [
      "[[ 0.80893285  1.77652645  1.61975831 ...  1.35687789 -0.15401776\n",
      "  -1.07593145]\n",
      " [-0.38818322 -0.16303375 -0.62883817 ... -0.73698599 -0.15401776\n",
      "  -0.25328242]\n",
      " [ 0.80893285 -0.61940086 -0.62883817 ... -0.73698599 -0.15401776\n",
      "  -1.00114517]\n",
      " ...\n",
      " [-1.98433798 -1.76031862 -0.62883817 ...  1.35687789 -0.15401776\n",
      "   1.1676568 ]\n",
      " [ 0.80893285  2.00471    -0.62883817 ... -0.73698599 -0.15401776\n",
      "  -1.37507655]\n",
      " [-1.1862606  -0.16303375 -0.62883817 ... -0.73698599 -0.15401776\n",
      "  -1.07593145]]\n"
     ]
    }
   ],
   "source": [
    "# Scaling the data\n",
    "\n",
    "from sklearn.preprocessing import StandardScaler\n",
    "scaler = StandardScaler()\n",
    "scaler.fit(X)\n",
    "X = scaler.transform(X)\n",
    "print(X)"
   ]
  },
  {
   "cell_type": "code",
   "execution_count": 14,
   "metadata": {},
   "outputs": [
    {
     "data": {
      "text/plain": [
       "department                int32\n",
       "region                    int32\n",
       "education                 int32\n",
       "recruitment_channel       int32\n",
       "no_of_trainings           int64\n",
       "age                       int64\n",
       "previous_year_rating    float64\n",
       "length_of_service         int64\n",
       "KPIs_met >80%             int64\n",
       "awards_won?               int64\n",
       "avg_training_score        int64\n",
       "is_promoted               int64\n",
       "dtype: object"
      ]
     },
     "execution_count": 14,
     "metadata": {},
     "output_type": "execute_result"
    }
   ],
   "source": [
    "# Checking the datatypes of variables\n",
    "\n",
    "hr_train1.dtypes"
   ]
  },
  {
   "cell_type": "code",
   "execution_count": 15,
   "metadata": {},
   "outputs": [],
   "source": [
    "# Splitting the data into Training and Testing\n",
    "\n",
    "from sklearn.model_selection import train_test_split\n",
    "\n",
    "X_train, X_test, Y_train, Y_test = train_test_split(X, Y, test_size = 0.3, random_state = 10)"
   ]
  },
  {
   "cell_type": "code",
   "execution_count": 16,
   "metadata": {},
   "outputs": [],
   "source": [
    "import warnings\n",
    "warnings.filterwarnings(\"ignore\")"
   ]
  },
  {
   "cell_type": "code",
   "execution_count": null,
   "metadata": {},
   "outputs": [],
   "source": []
  },
  {
   "cell_type": "markdown",
   "metadata": {},
   "source": [
    "## Creating a Function to Evaluate the Models"
   ]
  },
  {
   "cell_type": "code",
   "execution_count": 17,
   "metadata": {},
   "outputs": [],
   "source": [
    "from sklearn.metrics \\\n",
    "import accuracy_score, confusion_matrix, classification_report, recall_score, precision_score, f1_score, roc_curve, auc\n",
    "def metric(actual_values, predicted_values):\n",
    "    l= []\n",
    "    \n",
    "    # Confusion matrix \n",
    "    cfm = confusion_matrix(actual_values,predicted_values)\n",
    "    print(cfm)\n",
    "    \n",
    "    # Classification Report\n",
    "    print('\\nClassification Report\\n',classification_report(actual_values,predicted_values))\n",
    "    \n",
    "    \n",
    "    # Accuracy Score\n",
    "    acc = round(accuracy_score(actual_values,predicted_values),4)\n",
    "    l.append(acc)\n",
    "    print('\\nAccuracy of Model :',acc)\n",
    "          \n",
    "    \n",
    "    # Precision value of class 1\n",
    "    pr_val = round(precision_score(actual_values,predicted_values),4)\n",
    "    l.append(pr_val)\n",
    "          \n",
    "      \n",
    "    # Recall value of class 1\n",
    "    rc_vl = round(recall_score(actual_values,predicted_values),4)\n",
    "    l.append(rc_vl)      \n",
    "   \n",
    "          \n",
    "    # F1 score of class 1\n",
    "    f1_sc = round(f1_score(actual_values,predicted_values),4)\n",
    "    l.append(f1_sc)  \n",
    "          \n",
    "    \n",
    "    # Value of Type 1 Error      \n",
    "    l.append(cfm[0,1])      \n",
    "          \n",
    "          \n",
    "    # Value of Type II Error      \n",
    "    l.append(cfm[1,0])\n",
    "          \n",
    "          \n",
    "    # Total Error value     \n",
    "    l.append(cfm[0,1] + cfm[1,0])  \n",
    "             \n",
    "   \n",
    "    return l       \n",
    "   "
   ]
  },
  {
   "cell_type": "code",
   "execution_count": 18,
   "metadata": {},
   "outputs": [
    {
     "data": {
      "text/html": [
       "<div>\n",
       "<style scoped>\n",
       "    .dataframe tbody tr th:only-of-type {\n",
       "        vertical-align: middle;\n",
       "    }\n",
       "\n",
       "    .dataframe tbody tr th {\n",
       "        vertical-align: top;\n",
       "    }\n",
       "\n",
       "    .dataframe thead th {\n",
       "        text-align: right;\n",
       "    }\n",
       "</style>\n",
       "<table border=\"1\" class=\"dataframe\">\n",
       "  <thead>\n",
       "    <tr style=\"text-align: right;\">\n",
       "      <th></th>\n",
       "      <th>Overall Accuracy</th>\n",
       "      <th>Precision Value</th>\n",
       "      <th>Recall Value</th>\n",
       "      <th>F1-Score</th>\n",
       "      <th>Type I Error</th>\n",
       "      <th>Type II Error</th>\n",
       "      <th>Total Error</th>\n",
       "    </tr>\n",
       "    <tr>\n",
       "      <th>Algorithm</th>\n",
       "      <th></th>\n",
       "      <th></th>\n",
       "      <th></th>\n",
       "      <th></th>\n",
       "      <th></th>\n",
       "      <th></th>\n",
       "      <th></th>\n",
       "    </tr>\n",
       "  </thead>\n",
       "  <tbody>\n",
       "    <tr>\n",
       "      <td>Logistic Regression</td>\n",
       "      <td>NaN</td>\n",
       "      <td>NaN</td>\n",
       "      <td>NaN</td>\n",
       "      <td>NaN</td>\n",
       "      <td>NaN</td>\n",
       "      <td>NaN</td>\n",
       "      <td>NaN</td>\n",
       "    </tr>\n",
       "    <tr>\n",
       "      <td>KNN</td>\n",
       "      <td>NaN</td>\n",
       "      <td>NaN</td>\n",
       "      <td>NaN</td>\n",
       "      <td>NaN</td>\n",
       "      <td>NaN</td>\n",
       "      <td>NaN</td>\n",
       "      <td>NaN</td>\n",
       "    </tr>\n",
       "    <tr>\n",
       "      <td>SVM</td>\n",
       "      <td>NaN</td>\n",
       "      <td>NaN</td>\n",
       "      <td>NaN</td>\n",
       "      <td>NaN</td>\n",
       "      <td>NaN</td>\n",
       "      <td>NaN</td>\n",
       "      <td>NaN</td>\n",
       "    </tr>\n",
       "    <tr>\n",
       "      <td>Decision Tree</td>\n",
       "      <td>NaN</td>\n",
       "      <td>NaN</td>\n",
       "      <td>NaN</td>\n",
       "      <td>NaN</td>\n",
       "      <td>NaN</td>\n",
       "      <td>NaN</td>\n",
       "      <td>NaN</td>\n",
       "    </tr>\n",
       "    <tr>\n",
       "      <td>Random Forest</td>\n",
       "      <td>NaN</td>\n",
       "      <td>NaN</td>\n",
       "      <td>NaN</td>\n",
       "      <td>NaN</td>\n",
       "      <td>NaN</td>\n",
       "      <td>NaN</td>\n",
       "      <td>NaN</td>\n",
       "    </tr>\n",
       "  </tbody>\n",
       "</table>\n",
       "</div>"
      ],
      "text/plain": [
       "                    Overall Accuracy Precision Value Recall Value F1-Score  \\\n",
       "Algorithm                                                                    \n",
       "Logistic Regression              NaN             NaN          NaN      NaN   \n",
       "KNN                              NaN             NaN          NaN      NaN   \n",
       "SVM                              NaN             NaN          NaN      NaN   \n",
       "Decision Tree                    NaN             NaN          NaN      NaN   \n",
       "Random Forest                    NaN             NaN          NaN      NaN   \n",
       "\n",
       "                    Type I Error Type II Error Total Error  \n",
       "Algorithm                                                   \n",
       "Logistic Regression          NaN           NaN         NaN  \n",
       "KNN                          NaN           NaN         NaN  \n",
       "SVM                          NaN           NaN         NaN  \n",
       "Decision Tree                NaN           NaN         NaN  \n",
       "Random Forest                NaN           NaN         NaN  "
      ]
     },
     "execution_count": 18,
     "metadata": {},
     "output_type": "execute_result"
    }
   ],
   "source": [
    "result = pd.DataFrame(columns = ['Algorithm','Overall Accuracy','Precision Value','Recall Value','F1-Score',\n",
    "                                 'Type I Error','Type II Error', 'Total Error'])\n",
    "\n",
    "result['Algorithm'] = ['Logistic Regression','KNN','SVM', 'Decision Tree', 'Random Forest']\n",
    "\n",
    "result.set_index('Algorithm', inplace = True)\n",
    "\n",
    "\n",
    "result_bal = result.copy()\n",
    "\n",
    "result.head(5)"
   ]
  },
  {
   "cell_type": "code",
   "execution_count": null,
   "metadata": {},
   "outputs": [],
   "source": []
  },
  {
   "cell_type": "markdown",
   "metadata": {},
   "source": [
    "# LOGISTIC REGRESSION"
   ]
  },
  {
   "cell_type": "code",
   "execution_count": 19,
   "metadata": {},
   "outputs": [],
   "source": [
    "from sklearn.linear_model import LogisticRegression\n",
    "classifier = LogisticRegression()\n",
    "\n",
    "def logistic(X_tr, Y_tr, X_te):\n",
    "    classifier.fit(X_tr, Y_tr)\n",
    "    return(classifier.predict(X_te))"
   ]
  },
  {
   "cell_type": "code",
   "execution_count": 20,
   "metadata": {},
   "outputs": [
    {
     "name": "stdout",
     "output_type": "stream",
     "text": [
      "[[14994    70]\n",
      " [ 1285    94]]\n",
      "\n",
      "Classification Report\n",
      "               precision    recall  f1-score   support\n",
      "\n",
      "         0.0       0.92      1.00      0.96     15064\n",
      "         1.0       0.57      0.07      0.12      1379\n",
      "\n",
      "    accuracy                           0.92     16443\n",
      "   macro avg       0.75      0.53      0.54     16443\n",
      "weighted avg       0.89      0.92      0.89     16443\n",
      "\n",
      "\n",
      "Accuracy of Model : 0.9176\n"
     ]
    }
   ],
   "source": [
    "Y_pred_log = logistic(X_train, Y_train, X_test)\n",
    "l = metric(Y_test, Y_pred_log)\n",
    "\n",
    "j = 0\n",
    "for i in result.columns:\n",
    "    result.loc['Logistic Regression',i] = l[j]\n",
    "    j += 1"
   ]
  },
  {
   "cell_type": "code",
   "execution_count": 21,
   "metadata": {},
   "outputs": [],
   "source": [
    "#result.head()"
   ]
  },
  {
   "cell_type": "markdown",
   "metadata": {},
   "source": [
    "# KNN"
   ]
  },
  {
   "cell_type": "code",
   "execution_count": 22,
   "metadata": {},
   "outputs": [
    {
     "data": {
      "text/plain": [
       "'\\nfrom sklearn.metrics import accuracy_score\\nfrom sklearn.neighbors import KNeighborsClassifier\\n\\nfor K in range(1,31):\\nmodel_KNN = KNeighborsClassifier(K,metric=\"euclidean\")\\nmodel_KNN.fit(X_train, Y_train)\\nY_pred = model_KNN.predict(X_test)\\nprint (\"Accuracy is \", accuracy_score(Y_test,Y_pred), \"for K-Value:\",K)\\n'"
      ]
     },
     "execution_count": 22,
     "metadata": {},
     "output_type": "execute_result"
    }
   ],
   "source": [
    "\"\"\"\n",
    "from sklearn.metrics import accuracy_score\n",
    "from sklearn.neighbors import KNeighborsClassifier\n",
    "\n",
    "for K in range(1,31):\n",
    "model_KNN = KNeighborsClassifier(K,metric=\"euclidean\")\n",
    "model_KNN.fit(X_train, Y_train)\n",
    "Y_pred = model_KNN.predict(X_test)\n",
    "print (\"Accuracy is \", accuracy_score(Y_test,Y_pred), \"for K-Value:\",K)\n",
    "\"\"\""
   ]
  },
  {
   "cell_type": "code",
   "execution_count": 23,
   "metadata": {},
   "outputs": [],
   "source": [
    "#predicting using the KNeighbors_Classifier\n",
    "\n",
    "from sklearn.neighbors import KNeighborsClassifier\n",
    "model_KNN = KNeighborsClassifier(n_neighbors = 19, metric = 'euclidean')\n",
    "\n",
    "def KNN(X_tr, Y_tr, X_te):\n",
    "#fit the model on the data and predict the values\n",
    "    model_KNN.fit(X_tr, Y_tr)\n",
    "    return(model_KNN.predict(X_te))"
   ]
  },
  {
   "cell_type": "code",
   "execution_count": 24,
   "metadata": {},
   "outputs": [
    {
     "name": "stdout",
     "output_type": "stream",
     "text": [
      "[[15029    35]\n",
      " [ 1255   124]]\n",
      "\n",
      "Classification Report\n",
      "               precision    recall  f1-score   support\n",
      "\n",
      "         0.0       0.92      1.00      0.96     15064\n",
      "         1.0       0.78      0.09      0.16      1379\n",
      "\n",
      "    accuracy                           0.92     16443\n",
      "   macro avg       0.85      0.54      0.56     16443\n",
      "weighted avg       0.91      0.92      0.89     16443\n",
      "\n",
      "\n",
      "Accuracy of Model : 0.9215\n"
     ]
    }
   ],
   "source": [
    "Y_pred_KNN = KNN(X_train, Y_train, X_test)\n",
    "l = metric(Y_test, Y_pred_KNN)\n",
    "\n",
    "j = 0\n",
    "for i in result.columns:\n",
    "    result.loc['KNN',i] = l[j]\n",
    "    j += 1\n"
   ]
  },
  {
   "cell_type": "markdown",
   "metadata": {},
   "source": [
    "# Support Vecctor Machine(SVM)"
   ]
  },
  {
   "cell_type": "code",
   "execution_count": 25,
   "metadata": {},
   "outputs": [],
   "source": [
    "from sklearn import svm\n",
    "svc_model = svm.SVC(kernel = 'rbf', C = 1.0, gamma = 0.1)\n",
    "\n",
    "def svm_mod(X_tr, Y_tr, X_te): \n",
    "    svc_model.fit(X_tr, Y_tr)\n",
    "    return(svc_model.predict(X_te))"
   ]
  },
  {
   "cell_type": "code",
   "execution_count": 26,
   "metadata": {},
   "outputs": [
    {
     "name": "stdout",
     "output_type": "stream",
     "text": [
      "[[15044    20]\n",
      " [ 1240   139]]\n",
      "\n",
      "Classification Report\n",
      "               precision    recall  f1-score   support\n",
      "\n",
      "         0.0       0.92      1.00      0.96     15064\n",
      "         1.0       0.87      0.10      0.18      1379\n",
      "\n",
      "    accuracy                           0.92     16443\n",
      "   macro avg       0.90      0.55      0.57     16443\n",
      "weighted avg       0.92      0.92      0.89     16443\n",
      "\n",
      "\n",
      "Accuracy of Model : 0.9234\n"
     ]
    }
   ],
   "source": [
    "Y_pred_svm = svm_mod(X_train, Y_train, X_test)\n",
    "l = metric(Y_test, Y_pred_svm)\n",
    "\n",
    "j = 0\n",
    "for i in result.columns:\n",
    "    result.loc['SVM',i] = l[j]\n",
    "    j += 1"
   ]
  },
  {
   "cell_type": "code",
   "execution_count": null,
   "metadata": {},
   "outputs": [],
   "source": []
  },
  {
   "cell_type": "markdown",
   "metadata": {},
   "source": [
    "# Decision Tree"
   ]
  },
  {
   "cell_type": "code",
   "execution_count": 27,
   "metadata": {},
   "outputs": [],
   "source": [
    "#predicting using the Decision_Tree_Classifier\n",
    "\n",
    "from sklearn.tree import DecisionTreeClassifier\n",
    "Dec_tr = DecisionTreeClassifier(random_state=10)\n",
    "\n",
    "def DecTr(X_tr, Y_tr, X_te):   \n",
    "#fit the model on the data and predict the values\n",
    "    Dec_tr.fit(X_tr, Y_tr)\n",
    "    return(Dec_tr.predict(X_te))"
   ]
  },
  {
   "cell_type": "code",
   "execution_count": 28,
   "metadata": {},
   "outputs": [
    {
     "name": "stdout",
     "output_type": "stream",
     "text": [
      "[[14096   968]\n",
      " [  763   616]]\n",
      "\n",
      "Classification Report\n",
      "               precision    recall  f1-score   support\n",
      "\n",
      "         0.0       0.95      0.94      0.94     15064\n",
      "         1.0       0.39      0.45      0.42      1379\n",
      "\n",
      "    accuracy                           0.89     16443\n",
      "   macro avg       0.67      0.69      0.68     16443\n",
      "weighted avg       0.90      0.89      0.90     16443\n",
      "\n",
      "\n",
      "Accuracy of Model : 0.8947\n"
     ]
    }
   ],
   "source": [
    "Y_pred_dt = DecTr(X_train, Y_train, X_test)\n",
    "l = metric(Y_test, Y_pred_dt)\n",
    "\n",
    "j = 0\n",
    "for i in result.columns:\n",
    "    result.loc['Decision Tree',i] = l[j]\n",
    "    j += 1"
   ]
  },
  {
   "cell_type": "code",
   "execution_count": null,
   "metadata": {},
   "outputs": [],
   "source": []
  },
  {
   "cell_type": "markdown",
   "metadata": {},
   "source": [
    "# Random Forest"
   ]
  },
  {
   "cell_type": "code",
   "execution_count": 29,
   "metadata": {},
   "outputs": [],
   "source": [
    "#predicting using the Random_Forest_Classifier\n",
    "\n",
    "from sklearn.ensemble import RandomForestClassifier\n",
    "random_for = RandomForestClassifier(100,random_state=10)\n",
    "\n",
    "def Random(X_tr, Y_tr, X_te):\n",
    "    #fit the model on the data and predict the values\n",
    "    random_for.fit(X_tr, Y_tr)\n",
    "    return(random_for.predict(X_te))"
   ]
  },
  {
   "cell_type": "code",
   "execution_count": 30,
   "metadata": {},
   "outputs": [
    {
     "name": "stdout",
     "output_type": "stream",
     "text": [
      "[[14958   106]\n",
      " [  962   417]]\n",
      "\n",
      "Classification Report\n",
      "               precision    recall  f1-score   support\n",
      "\n",
      "         0.0       0.94      0.99      0.97     15064\n",
      "         1.0       0.80      0.30      0.44      1379\n",
      "\n",
      "    accuracy                           0.94     16443\n",
      "   macro avg       0.87      0.65      0.70     16443\n",
      "weighted avg       0.93      0.94      0.92     16443\n",
      "\n",
      "\n",
      "Accuracy of Model : 0.935\n"
     ]
    }
   ],
   "source": [
    "Y_pred_rf = Random(X_train, Y_train, X_test)\n",
    "l = metric(Y_test, Y_pred_rf)\n",
    "\n",
    "j = 0\n",
    "for i in result.columns:\n",
    "    result.loc['Random Forest',i] = l[j]\n",
    "    j += 1"
   ]
  },
  {
   "cell_type": "code",
   "execution_count": 32,
   "metadata": {},
   "outputs": [
    {
     "data": {
      "text/plain": [
       "<matplotlib.axes._subplots.AxesSubplot at 0x23cefd73388>"
      ]
     },
     "execution_count": 32,
     "metadata": {},
     "output_type": "execute_result"
    },
    {
     "data": {
      "image/png": "[encoded data removed]",
      "text/plain": [
       "<Figure size 432x288 with 1 Axes>"
      ]
     },
     "metadata": {
      "needs_background": "light"
     },
     "output_type": "display_data"
    }
   ],
   "source": [
    "sns.countplot(x = 'is_promoted', data = hr_train1)"
   ]
  },
  {
   "cell_type": "markdown",
   "metadata": {},
   "source": [
    "## Model Evaluation on Unbalanced Data"
   ]
  },
  {
   "cell_type": "code",
   "execution_count": 33,
   "metadata": {},
   "outputs": [
    {
     "data": {
      "text/html": [
       "<div>\n",
       "<style scoped>\n",
       "    .dataframe tbody tr th:only-of-type {\n",
       "        vertical-align: middle;\n",
       "    }\n",
       "\n",
       "    .dataframe tbody tr th {\n",
       "        vertical-align: top;\n",
       "    }\n",
       "\n",
       "    .dataframe thead th {\n",
       "        text-align: right;\n",
       "    }\n",
       "</style>\n",
       "<table border=\"1\" class=\"dataframe\">\n",
       "  <thead>\n",
       "    <tr style=\"text-align: right;\">\n",
       "      <th></th>\n",
       "      <th>Overall Accuracy</th>\n",
       "      <th>Precision Value</th>\n",
       "      <th>Recall Value</th>\n",
       "      <th>F1-Score</th>\n",
       "      <th>Type I Error</th>\n",
       "      <th>Type II Error</th>\n",
       "      <th>Total Error</th>\n",
       "    </tr>\n",
       "    <tr>\n",
       "      <th>Algorithm</th>\n",
       "      <th></th>\n",
       "      <th></th>\n",
       "      <th></th>\n",
       "      <th></th>\n",
       "      <th></th>\n",
       "      <th></th>\n",
       "      <th></th>\n",
       "    </tr>\n",
       "  </thead>\n",
       "  <tbody>\n",
       "    <tr>\n",
       "      <td>Logistic Regression</td>\n",
       "      <td>0.9176</td>\n",
       "      <td>0.5732</td>\n",
       "      <td>0.0682</td>\n",
       "      <td>0.1218</td>\n",
       "      <td>70</td>\n",
       "      <td>1285</td>\n",
       "      <td>1355</td>\n",
       "    </tr>\n",
       "    <tr>\n",
       "      <td>KNN</td>\n",
       "      <td>0.9215</td>\n",
       "      <td>0.7799</td>\n",
       "      <td>0.0899</td>\n",
       "      <td>0.1612</td>\n",
       "      <td>35</td>\n",
       "      <td>1255</td>\n",
       "      <td>1290</td>\n",
       "    </tr>\n",
       "    <tr>\n",
       "      <td>SVM</td>\n",
       "      <td>0.9234</td>\n",
       "      <td>0.8742</td>\n",
       "      <td>0.1008</td>\n",
       "      <td>0.1808</td>\n",
       "      <td>20</td>\n",
       "      <td>1240</td>\n",
       "      <td>1260</td>\n",
       "    </tr>\n",
       "    <tr>\n",
       "      <td>Decision Tree</td>\n",
       "      <td>0.8947</td>\n",
       "      <td>0.3889</td>\n",
       "      <td>0.4467</td>\n",
       "      <td>0.4158</td>\n",
       "      <td>968</td>\n",
       "      <td>763</td>\n",
       "      <td>1731</td>\n",
       "    </tr>\n",
       "    <tr>\n",
       "      <td>Random Forest</td>\n",
       "      <td>0.935</td>\n",
       "      <td>0.7973</td>\n",
       "      <td>0.3024</td>\n",
       "      <td>0.4385</td>\n",
       "      <td>106</td>\n",
       "      <td>962</td>\n",
       "      <td>1068</td>\n",
       "    </tr>\n",
       "  </tbody>\n",
       "</table>\n",
       "</div>"
      ],
      "text/plain": [
       "                    Overall Accuracy Precision Value Recall Value F1-Score  \\\n",
       "Algorithm                                                                    \n",
       "Logistic Regression           0.9176          0.5732       0.0682   0.1218   \n",
       "KNN                           0.9215          0.7799       0.0899   0.1612   \n",
       "SVM                           0.9234          0.8742       0.1008   0.1808   \n",
       "Decision Tree                 0.8947          0.3889       0.4467   0.4158   \n",
       "Random Forest                  0.935          0.7973       0.3024   0.4385   \n",
       "\n",
       "                    Type I Error Type II Error Total Error  \n",
       "Algorithm                                                   \n",
       "Logistic Regression           70          1285        1355  \n",
       "KNN                           35          1255        1290  \n",
       "SVM                           20          1240        1260  \n",
       "Decision Tree                968           763        1731  \n",
       "Random Forest                106           962        1068  "
      ]
     },
     "execution_count": 33,
     "metadata": {},
     "output_type": "execute_result"
    }
   ],
   "source": [
    "result.head()"
   ]
  },
  {
   "cell_type": "code",
   "execution_count": null,
   "metadata": {},
   "outputs": [],
   "source": []
  },
  {
   "cell_type": "markdown",
   "metadata": {},
   "source": [
    "# Oversampling\\ Upsampling the Data"
   ]
  },
  {
   "cell_type": "code",
   "execution_count": 34,
   "metadata": {},
   "outputs": [
    {
     "data": {
      "text/plain": [
       "1    50140\n",
       "0    50140\n",
       "Name: is_promoted, dtype: int64"
      ]
     },
     "execution_count": 34,
     "metadata": {},
     "output_type": "execute_result"
    }
   ],
   "source": [
    "from sklearn.utils import resample\n",
    "\n",
    "# Separate majority and minority classes\n",
    "df_majority = hr_train1[hr_train1.is_promoted == 0]\n",
    "df_minority = hr_train1[hr_train1.is_promoted == 1]\n",
    "\n",
    "# Upsample minority class\n",
    "df_minority_upsampled = resample(df_minority,\n",
    "            replace = True, # sample with replacement\n",
    "            n_samples = 50140, # to match majority class\n",
    "            random_state = 10) # reproducible results\n",
    "\n",
    "# Combine majority class with upsampled minority class\n",
    "df_upsampled = pd.concat([df_majority, df_minority_upsampled])\n",
    "\n",
    "# Display new class counts\n",
    "df_upsampled.is_promoted.value_counts()"
   ]
  },
  {
   "cell_type": "code",
   "execution_count": 36,
   "metadata": {},
   "outputs": [
    {
     "data": {
      "text/plain": [
       "<matplotlib.axes._subplots.AxesSubplot at 0x23cefd7e1c8>"
      ]
     },
     "execution_count": 36,
     "metadata": {},
     "output_type": "execute_result"
    },
    {
     "data": {
      "image/png": "[encoded data removed]",
      "text/plain": [
       "<Figure size 432x288 with 1 Axes>"
      ]
     },
     "metadata": {
      "needs_background": "light"
     },
     "output_type": "display_data"
    }
   ],
   "source": [
    "sns.countplot(x = 'is_promoted', data = df_upsampled)"
   ]
  },
  {
   "cell_type": "code",
   "execution_count": 37,
   "metadata": {},
   "outputs": [],
   "source": [
    "X1 = df_upsampled.values[:,:-1]\n",
    "Y1 = df_upsampled.values[:,-1]"
   ]
  },
  {
   "cell_type": "code",
   "execution_count": 38,
   "metadata": {},
   "outputs": [
    {
     "name": "stdout",
     "output_type": "stream",
     "text": [
      "[[ 0.80095407  1.76473212  1.54534627 ...  0.98195379 -0.2672541\n",
      "  -1.23779348]\n",
      " [-0.38713063 -0.1773577  -0.65882154 ... -1.01837786 -0.2672541\n",
      "  -0.48025744]\n",
      " [ 0.80095407 -0.63432001 -0.65882154 ... -1.01837786 -0.2672541\n",
      "  -1.16892656]\n",
      " ...\n",
      " [ 1.19698231 -0.06311712  1.54534627 ...  0.98195379 -0.2672541\n",
      "   0.75934699]\n",
      " [ 0.40492584  0.39384519 -0.65882154 ...  0.98195379 -0.2672541\n",
      "   1.31028229]\n",
      " [-1.97124358 -0.1773577  -0.65882154 ... -1.01837786 -0.2672541\n",
      "   1.3791492 ]]\n"
     ]
    }
   ],
   "source": [
    "from sklearn.preprocessing import StandardScaler\n",
    "\n",
    "scaler = StandardScaler()\n",
    "\n",
    "scaler.fit(X1)\n",
    "\n",
    "X1 = scaler.transform(X1)\n",
    "print(X1)"
   ]
  },
  {
   "cell_type": "code",
   "execution_count": 39,
   "metadata": {},
   "outputs": [],
   "source": [
    "from sklearn.model_selection import train_test_split\n",
    "\n",
    "#Split the data into test and train\n",
    "X_train1, X_test1, Y_train1, Y_test1 = train_test_split(X1, Y1, test_size=0.3,\n",
    "                                        random_state=10)"
   ]
  },
  {
   "cell_type": "code",
   "execution_count": null,
   "metadata": {},
   "outputs": [],
   "source": []
  },
  {
   "cell_type": "markdown",
   "metadata": {},
   "source": [
    "## Predictions on Balanced Data"
   ]
  },
  {
   "cell_type": "markdown",
   "metadata": {},
   "source": [
    "## Logistic Regression"
   ]
  },
  {
   "cell_type": "code",
   "execution_count": 40,
   "metadata": {},
   "outputs": [
    {
     "name": "stdout",
     "output_type": "stream",
     "text": [
      "[[10677  4338]\n",
      " [ 3986 11083]]\n",
      "\n",
      "Classification Report\n",
      "               precision    recall  f1-score   support\n",
      "\n",
      "         0.0       0.73      0.71      0.72     15015\n",
      "         1.0       0.72      0.74      0.73     15069\n",
      "\n",
      "    accuracy                           0.72     30084\n",
      "   macro avg       0.72      0.72      0.72     30084\n",
      "weighted avg       0.72      0.72      0.72     30084\n",
      "\n",
      "\n",
      "Accuracy of Model : 0.7233\n"
     ]
    }
   ],
   "source": [
    "# making prediction on upsampling data using Logistic Regression\n",
    "\n",
    "Y_pred_log = logistic(X_train1, Y_train1, X_test1)\n",
    "l = metric(Y_test1, Y_pred_log)\n",
    "\n",
    "j = 0\n",
    "for i in result_bal.columns:\n",
    "    result_bal.loc['Logistic Regression',i] = l[j]\n",
    "    j += 1"
   ]
  },
  {
   "cell_type": "markdown",
   "metadata": {},
   "source": [
    "## KNN"
   ]
  },
  {
   "cell_type": "code",
   "execution_count": 41,
   "metadata": {},
   "outputs": [
    {
     "name": "stdout",
     "output_type": "stream",
     "text": [
      "[[11072  3943]\n",
      " [ 1555 13514]]\n",
      "\n",
      "Classification Report\n",
      "               precision    recall  f1-score   support\n",
      "\n",
      "         0.0       0.88      0.74      0.80     15015\n",
      "         1.0       0.77      0.90      0.83     15069\n",
      "\n",
      "    accuracy                           0.82     30084\n",
      "   macro avg       0.83      0.82      0.82     30084\n",
      "weighted avg       0.83      0.82      0.82     30084\n",
      "\n",
      "\n",
      "Accuracy of Model : 0.8172\n"
     ]
    }
   ],
   "source": [
    "# making prediction on upsampling data using KNN\n",
    "\n",
    "Y_pred_KNN = KNN(X_train1, Y_train1, X_test1)\n",
    "l = metric(Y_test1, Y_pred_KNN)\n",
    "\n",
    "j = 0\n",
    "for i in result_bal.columns:\n",
    "    result_bal.loc['KNN',i] = l[j]\n",
    "    j += 1\n"
   ]
  },
  {
   "cell_type": "code",
   "execution_count": null,
   "metadata": {},
   "outputs": [],
   "source": []
  },
  {
   "cell_type": "markdown",
   "metadata": {},
   "source": [
    "## SVM"
   ]
  },
  {
   "cell_type": "code",
   "execution_count": 42,
   "metadata": {},
   "outputs": [
    {
     "name": "stdout",
     "output_type": "stream",
     "text": [
      "[[10231  4784]\n",
      " [ 1576 13493]]\n",
      "\n",
      "Classification Report\n",
      "               precision    recall  f1-score   support\n",
      "\n",
      "         0.0       0.87      0.68      0.76     15015\n",
      "         1.0       0.74      0.90      0.81     15069\n",
      "\n",
      "    accuracy                           0.79     30084\n",
      "   macro avg       0.80      0.79      0.79     30084\n",
      "weighted avg       0.80      0.79      0.79     30084\n",
      "\n",
      "\n",
      "Accuracy of Model : 0.7886\n"
     ]
    }
   ],
   "source": [
    "# making prediction on upsampling data using SVM\n",
    "\n",
    "Y_pred_svm1 = svm_mod(X_train1, Y_train1, X_test1)\n",
    "l = metric(Y_test1, Y_pred_svm1)\n",
    "\n",
    "j = 0\n",
    "for i in result_bal.columns:\n",
    "    result_bal.loc['SVM',i] = l[j]\n",
    "    j += 1"
   ]
  },
  {
   "cell_type": "code",
   "execution_count": null,
   "metadata": {},
   "outputs": [],
   "source": []
  },
  {
   "cell_type": "markdown",
   "metadata": {},
   "source": [
    "## Decision Tree"
   ]
  },
  {
   "cell_type": "code",
   "execution_count": 43,
   "metadata": {},
   "outputs": [
    {
     "name": "stdout",
     "output_type": "stream",
     "text": [
      "[[13955  1060]\n",
      " [    0 15069]]\n",
      "\n",
      "Classification Report\n",
      "               precision    recall  f1-score   support\n",
      "\n",
      "         0.0       1.00      0.93      0.96     15015\n",
      "         1.0       0.93      1.00      0.97     15069\n",
      "\n",
      "    accuracy                           0.96     30084\n",
      "   macro avg       0.97      0.96      0.96     30084\n",
      "weighted avg       0.97      0.96      0.96     30084\n",
      "\n",
      "\n",
      "Accuracy of Model : 0.9648\n"
     ]
    }
   ],
   "source": [
    "# making prediction on upsampling data using Decision Tree\n",
    "\n",
    "Y_pred_dt = DecTr(X_train1, Y_train1, X_test1)\n",
    "l = metric(Y_test1, Y_pred_dt)\n",
    "\n",
    "j = 0\n",
    "for i in result_bal.columns:\n",
    "    result_bal.loc['Decision Tree',i] = l[j]\n",
    "    j += 1"
   ]
  },
  {
   "cell_type": "code",
   "execution_count": null,
   "metadata": {},
   "outputs": [],
   "source": []
  },
  {
   "cell_type": "markdown",
   "metadata": {},
   "source": [
    "## Random Forest"
   ]
  },
  {
   "cell_type": "code",
   "execution_count": 44,
   "metadata": {},
   "outputs": [
    {
     "name": "stdout",
     "output_type": "stream",
     "text": [
      "[[14410   605]\n",
      " [    0 15069]]\n",
      "\n",
      "Classification Report\n",
      "               precision    recall  f1-score   support\n",
      "\n",
      "         0.0       1.00      0.96      0.98     15015\n",
      "         1.0       0.96      1.00      0.98     15069\n",
      "\n",
      "    accuracy                           0.98     30084\n",
      "   macro avg       0.98      0.98      0.98     30084\n",
      "weighted avg       0.98      0.98      0.98     30084\n",
      "\n",
      "\n",
      "Accuracy of Model : 0.9799\n"
     ]
    }
   ],
   "source": [
    "# making prediction on upsampling data using Random Forest\n",
    "\n",
    "Y_pred_rf = Random(X_train1, Y_train1, X_test1)\n",
    "l = metric(Y_test1, Y_pred_rf)\n",
    "\n",
    "j = 0\n",
    "for i in result_bal.columns:\n",
    "    result_bal.loc['Random Forest',i] = l[j]\n",
    "    j += 1"
   ]
  },
  {
   "cell_type": "code",
   "execution_count": null,
   "metadata": {},
   "outputs": [],
   "source": []
  },
  {
   "cell_type": "markdown",
   "metadata": {},
   "source": [
    "## Model Evaluation on Unbalanced Data"
   ]
  },
  {
   "cell_type": "code",
   "execution_count": 45,
   "metadata": {},
   "outputs": [
    {
     "data": {
      "text/html": [
       "<div>\n",
       "<style scoped>\n",
       "    .dataframe tbody tr th:only-of-type {\n",
       "        vertical-align: middle;\n",
       "    }\n",
       "\n",
       "    .dataframe tbody tr th {\n",
       "        vertical-align: top;\n",
       "    }\n",
       "\n",
       "    .dataframe thead th {\n",
       "        text-align: right;\n",
       "    }\n",
       "</style>\n",
       "<table border=\"1\" class=\"dataframe\">\n",
       "  <thead>\n",
       "    <tr style=\"text-align: right;\">\n",
       "      <th></th>\n",
       "      <th>Overall Accuracy</th>\n",
       "      <th>Precision Value</th>\n",
       "      <th>Recall Value</th>\n",
       "      <th>F1-Score</th>\n",
       "      <th>Type I Error</th>\n",
       "      <th>Type II Error</th>\n",
       "      <th>Total Error</th>\n",
       "    </tr>\n",
       "    <tr>\n",
       "      <th>Algorithm</th>\n",
       "      <th></th>\n",
       "      <th></th>\n",
       "      <th></th>\n",
       "      <th></th>\n",
       "      <th></th>\n",
       "      <th></th>\n",
       "      <th></th>\n",
       "    </tr>\n",
       "  </thead>\n",
       "  <tbody>\n",
       "    <tr>\n",
       "      <td>Logistic Regression</td>\n",
       "      <td>0.9176</td>\n",
       "      <td>0.5732</td>\n",
       "      <td>0.0682</td>\n",
       "      <td>0.1218</td>\n",
       "      <td>70</td>\n",
       "      <td>1285</td>\n",
       "      <td>1355</td>\n",
       "    </tr>\n",
       "    <tr>\n",
       "      <td>KNN</td>\n",
       "      <td>0.9215</td>\n",
       "      <td>0.7799</td>\n",
       "      <td>0.0899</td>\n",
       "      <td>0.1612</td>\n",
       "      <td>35</td>\n",
       "      <td>1255</td>\n",
       "      <td>1290</td>\n",
       "    </tr>\n",
       "    <tr>\n",
       "      <td>SVM</td>\n",
       "      <td>0.9234</td>\n",
       "      <td>0.8742</td>\n",
       "      <td>0.1008</td>\n",
       "      <td>0.1808</td>\n",
       "      <td>20</td>\n",
       "      <td>1240</td>\n",
       "      <td>1260</td>\n",
       "    </tr>\n",
       "    <tr>\n",
       "      <td>Decision Tree</td>\n",
       "      <td>0.8947</td>\n",
       "      <td>0.3889</td>\n",
       "      <td>0.4467</td>\n",
       "      <td>0.4158</td>\n",
       "      <td>968</td>\n",
       "      <td>763</td>\n",
       "      <td>1731</td>\n",
       "    </tr>\n",
       "    <tr>\n",
       "      <td>Random Forest</td>\n",
       "      <td>0.935</td>\n",
       "      <td>0.7973</td>\n",
       "      <td>0.3024</td>\n",
       "      <td>0.4385</td>\n",
       "      <td>106</td>\n",
       "      <td>962</td>\n",
       "      <td>1068</td>\n",
       "    </tr>\n",
       "  </tbody>\n",
       "</table>\n",
       "</div>"
      ],
      "text/plain": [
       "                    Overall Accuracy Precision Value Recall Value F1-Score  \\\n",
       "Algorithm                                                                    \n",
       "Logistic Regression           0.9176          0.5732       0.0682   0.1218   \n",
       "KNN                           0.9215          0.7799       0.0899   0.1612   \n",
       "SVM                           0.9234          0.8742       0.1008   0.1808   \n",
       "Decision Tree                 0.8947          0.3889       0.4467   0.4158   \n",
       "Random Forest                  0.935          0.7973       0.3024   0.4385   \n",
       "\n",
       "                    Type I Error Type II Error Total Error  \n",
       "Algorithm                                                   \n",
       "Logistic Regression           70          1285        1355  \n",
       "KNN                           35          1255        1290  \n",
       "SVM                           20          1240        1260  \n",
       "Decision Tree                968           763        1731  \n",
       "Random Forest                106           962        1068  "
      ]
     },
     "execution_count": 45,
     "metadata": {},
     "output_type": "execute_result"
    }
   ],
   "source": [
    "result.head()"
   ]
  },
  {
   "cell_type": "code",
   "execution_count": null,
   "metadata": {},
   "outputs": [],
   "source": []
  },
  {
   "cell_type": "markdown",
   "metadata": {},
   "source": [
    "## Model Evaluation on Balanced Data"
   ]
  },
  {
   "cell_type": "code",
   "execution_count": 46,
   "metadata": {},
   "outputs": [
    {
     "data": {
      "text/html": [
       "<div>\n",
       "<style scoped>\n",
       "    .dataframe tbody tr th:only-of-type {\n",
       "        vertical-align: middle;\n",
       "    }\n",
       "\n",
       "    .dataframe tbody tr th {\n",
       "        vertical-align: top;\n",
       "    }\n",
       "\n",
       "    .dataframe thead th {\n",
       "        text-align: right;\n",
       "    }\n",
       "</style>\n",
       "<table border=\"1\" class=\"dataframe\">\n",
       "  <thead>\n",
       "    <tr style=\"text-align: right;\">\n",
       "      <th></th>\n",
       "      <th>Overall Accuracy</th>\n",
       "      <th>Precision Value</th>\n",
       "      <th>Recall Value</th>\n",
       "      <th>F1-Score</th>\n",
       "      <th>Type I Error</th>\n",
       "      <th>Type II Error</th>\n",
       "      <th>Total Error</th>\n",
       "    </tr>\n",
       "    <tr>\n",
       "      <th>Algorithm</th>\n",
       "      <th></th>\n",
       "      <th></th>\n",
       "      <th></th>\n",
       "      <th></th>\n",
       "      <th></th>\n",
       "      <th></th>\n",
       "      <th></th>\n",
       "    </tr>\n",
       "  </thead>\n",
       "  <tbody>\n",
       "    <tr>\n",
       "      <td>Logistic Regression</td>\n",
       "      <td>0.7233</td>\n",
       "      <td>0.7187</td>\n",
       "      <td>0.7355</td>\n",
       "      <td>0.727</td>\n",
       "      <td>4338</td>\n",
       "      <td>3986</td>\n",
       "      <td>8324</td>\n",
       "    </tr>\n",
       "    <tr>\n",
       "      <td>KNN</td>\n",
       "      <td>0.8172</td>\n",
       "      <td>0.7741</td>\n",
       "      <td>0.8968</td>\n",
       "      <td>0.831</td>\n",
       "      <td>3943</td>\n",
       "      <td>1555</td>\n",
       "      <td>5498</td>\n",
       "    </tr>\n",
       "    <tr>\n",
       "      <td>SVM</td>\n",
       "      <td>0.7886</td>\n",
       "      <td>0.7383</td>\n",
       "      <td>0.8954</td>\n",
       "      <td>0.8093</td>\n",
       "      <td>4784</td>\n",
       "      <td>1576</td>\n",
       "      <td>6360</td>\n",
       "    </tr>\n",
       "    <tr>\n",
       "      <td>Decision Tree</td>\n",
       "      <td>0.9648</td>\n",
       "      <td>0.9343</td>\n",
       "      <td>1</td>\n",
       "      <td>0.966</td>\n",
       "      <td>1060</td>\n",
       "      <td>0</td>\n",
       "      <td>1060</td>\n",
       "    </tr>\n",
       "    <tr>\n",
       "      <td>Random Forest</td>\n",
       "      <td>0.9799</td>\n",
       "      <td>0.9614</td>\n",
       "      <td>1</td>\n",
       "      <td>0.9803</td>\n",
       "      <td>605</td>\n",
       "      <td>0</td>\n",
       "      <td>605</td>\n",
       "    </tr>\n",
       "  </tbody>\n",
       "</table>\n",
       "</div>"
      ],
      "text/plain": [
       "                    Overall Accuracy Precision Value Recall Value F1-Score  \\\n",
       "Algorithm                                                                    \n",
       "Logistic Regression           0.7233          0.7187       0.7355    0.727   \n",
       "KNN                           0.8172          0.7741       0.8968    0.831   \n",
       "SVM                           0.7886          0.7383       0.8954   0.8093   \n",
       "Decision Tree                 0.9648          0.9343            1    0.966   \n",
       "Random Forest                 0.9799          0.9614            1   0.9803   \n",
       "\n",
       "                    Type I Error Type II Error Total Error  \n",
       "Algorithm                                                   \n",
       "Logistic Regression         4338          3986        8324  \n",
       "KNN                         3943          1555        5498  \n",
       "SVM                         4784          1576        6360  \n",
       "Decision Tree               1060             0        1060  \n",
       "Random Forest                605             0         605  "
      ]
     },
     "execution_count": 46,
     "metadata": {},
     "output_type": "execute_result"
    }
   ],
   "source": [
    "result_bal.head()"
   ]
  },
  {
   "cell_type": "code",
   "execution_count": null,
   "metadata": {},
   "outputs": [],
   "source": []
  },
  {
   "cell_type": "code",
   "execution_count": null,
   "metadata": {},
   "outputs": [],
   "source": []
  },
  {
   "cell_type": "markdown",
   "metadata": {},
   "source": [
    "# Actual Test data"
   ]
  },
  {
   "cell_type": "markdown",
   "metadata": {},
   "source": [
    "### Performing EDA Tools on Test data"
   ]
  },
  {
   "cell_type": "code",
   "execution_count": 47,
   "metadata": {},
   "outputs": [
    {
     "data": {
      "text/html": [
       "<div>\n",
       "<style scoped>\n",
       "    .dataframe tbody tr th:only-of-type {\n",
       "        vertical-align: middle;\n",
       "    }\n",
       "\n",
       "    .dataframe tbody tr th {\n",
       "        vertical-align: top;\n",
       "    }\n",
       "\n",
       "    .dataframe thead th {\n",
       "        text-align: right;\n",
       "    }\n",
       "</style>\n",
       "<table border=\"1\" class=\"dataframe\">\n",
       "  <thead>\n",
       "    <tr style=\"text-align: right;\">\n",
       "      <th></th>\n",
       "      <th>department</th>\n",
       "      <th>region</th>\n",
       "      <th>education</th>\n",
       "      <th>gender</th>\n",
       "      <th>recruitment_channel</th>\n",
       "      <th>no_of_trainings</th>\n",
       "      <th>age</th>\n",
       "      <th>previous_year_rating</th>\n",
       "      <th>length_of_service</th>\n",
       "      <th>KPIs_met &gt;80%</th>\n",
       "      <th>awards_won?</th>\n",
       "      <th>avg_training_score</th>\n",
       "    </tr>\n",
       "    <tr>\n",
       "      <th>employee_id</th>\n",
       "      <th></th>\n",
       "      <th></th>\n",
       "      <th></th>\n",
       "      <th></th>\n",
       "      <th></th>\n",
       "      <th></th>\n",
       "      <th></th>\n",
       "      <th></th>\n",
       "      <th></th>\n",
       "      <th></th>\n",
       "      <th></th>\n",
       "      <th></th>\n",
       "    </tr>\n",
       "  </thead>\n",
       "  <tbody>\n",
       "    <tr>\n",
       "      <td>8724</td>\n",
       "      <td>Technology</td>\n",
       "      <td>region_26</td>\n",
       "      <td>Bachelor's</td>\n",
       "      <td>m</td>\n",
       "      <td>sourcing</td>\n",
       "      <td>1</td>\n",
       "      <td>24</td>\n",
       "      <td>NaN</td>\n",
       "      <td>1</td>\n",
       "      <td>1</td>\n",
       "      <td>0</td>\n",
       "      <td>77</td>\n",
       "    </tr>\n",
       "    <tr>\n",
       "      <td>74430</td>\n",
       "      <td>HR</td>\n",
       "      <td>region_4</td>\n",
       "      <td>Bachelor's</td>\n",
       "      <td>f</td>\n",
       "      <td>other</td>\n",
       "      <td>1</td>\n",
       "      <td>31</td>\n",
       "      <td>3.0</td>\n",
       "      <td>5</td>\n",
       "      <td>0</td>\n",
       "      <td>0</td>\n",
       "      <td>51</td>\n",
       "    </tr>\n",
       "    <tr>\n",
       "      <td>72255</td>\n",
       "      <td>Sales &amp; Marketing</td>\n",
       "      <td>region_13</td>\n",
       "      <td>Bachelor's</td>\n",
       "      <td>m</td>\n",
       "      <td>other</td>\n",
       "      <td>1</td>\n",
       "      <td>31</td>\n",
       "      <td>1.0</td>\n",
       "      <td>4</td>\n",
       "      <td>0</td>\n",
       "      <td>0</td>\n",
       "      <td>47</td>\n",
       "    </tr>\n",
       "    <tr>\n",
       "      <td>38562</td>\n",
       "      <td>Procurement</td>\n",
       "      <td>region_2</td>\n",
       "      <td>Bachelor's</td>\n",
       "      <td>f</td>\n",
       "      <td>other</td>\n",
       "      <td>3</td>\n",
       "      <td>31</td>\n",
       "      <td>2.0</td>\n",
       "      <td>9</td>\n",
       "      <td>0</td>\n",
       "      <td>0</td>\n",
       "      <td>65</td>\n",
       "    </tr>\n",
       "    <tr>\n",
       "      <td>64486</td>\n",
       "      <td>Finance</td>\n",
       "      <td>region_29</td>\n",
       "      <td>Bachelor's</td>\n",
       "      <td>m</td>\n",
       "      <td>sourcing</td>\n",
       "      <td>1</td>\n",
       "      <td>30</td>\n",
       "      <td>4.0</td>\n",
       "      <td>7</td>\n",
       "      <td>0</td>\n",
       "      <td>0</td>\n",
       "      <td>61</td>\n",
       "    </tr>\n",
       "  </tbody>\n",
       "</table>\n",
       "</div>"
      ],
      "text/plain": [
       "                    department     region   education gender  \\\n",
       "employee_id                                                    \n",
       "8724                Technology  region_26  Bachelor's      m   \n",
       "74430                       HR   region_4  Bachelor's      f   \n",
       "72255        Sales & Marketing  region_13  Bachelor's      m   \n",
       "38562              Procurement   region_2  Bachelor's      f   \n",
       "64486                  Finance  region_29  Bachelor's      m   \n",
       "\n",
       "            recruitment_channel  no_of_trainings  age  previous_year_rating  \\\n",
       "employee_id                                                                   \n",
       "8724                   sourcing                1   24                   NaN   \n",
       "74430                     other                1   31                   3.0   \n",
       "72255                     other                1   31                   1.0   \n",
       "38562                     other                3   31                   2.0   \n",
       "64486                  sourcing                1   30                   4.0   \n",
       "\n",
       "             length_of_service  KPIs_met >80%  awards_won?  avg_training_score  \n",
       "employee_id                                                                     \n",
       "8724                         1              1            0                  77  \n",
       "74430                        5              0            0                  51  \n",
       "72255                        4              0            0                  47  \n",
       "38562                        9              0            0                  65  \n",
       "64486                        7              0            0                  61  "
      ]
     },
     "execution_count": 47,
     "metadata": {},
     "output_type": "execute_result"
    }
   ],
   "source": [
    "hr_test = pd.read_csv('test_hr.csv',index_col = 0,header = 0)\n",
    "hr_test.head()"
   ]
  },
  {
   "cell_type": "code",
   "execution_count": 48,
   "metadata": {},
   "outputs": [],
   "source": [
    "hr_test1 = hr_test.copy()"
   ]
  },
  {
   "cell_type": "code",
   "execution_count": 49,
   "metadata": {},
   "outputs": [],
   "source": [
    "hr_test1.drop('gender',axis =1,inplace = True)"
   ]
  },
  {
   "cell_type": "code",
   "execution_count": 50,
   "metadata": {},
   "outputs": [
    {
     "data": {
      "text/html": [
       "<div>\n",
       "<style scoped>\n",
       "    .dataframe tbody tr th:only-of-type {\n",
       "        vertical-align: middle;\n",
       "    }\n",
       "\n",
       "    .dataframe tbody tr th {\n",
       "        vertical-align: top;\n",
       "    }\n",
       "\n",
       "    .dataframe thead th {\n",
       "        text-align: right;\n",
       "    }\n",
       "</style>\n",
       "<table border=\"1\" class=\"dataframe\">\n",
       "  <thead>\n",
       "    <tr style=\"text-align: right;\">\n",
       "      <th></th>\n",
       "      <th>department</th>\n",
       "      <th>region</th>\n",
       "      <th>education</th>\n",
       "      <th>recruitment_channel</th>\n",
       "      <th>no_of_trainings</th>\n",
       "      <th>age</th>\n",
       "      <th>previous_year_rating</th>\n",
       "      <th>length_of_service</th>\n",
       "      <th>KPIs_met &gt;80%</th>\n",
       "      <th>awards_won?</th>\n",
       "      <th>avg_training_score</th>\n",
       "    </tr>\n",
       "    <tr>\n",
       "      <th>employee_id</th>\n",
       "      <th></th>\n",
       "      <th></th>\n",
       "      <th></th>\n",
       "      <th></th>\n",
       "      <th></th>\n",
       "      <th></th>\n",
       "      <th></th>\n",
       "      <th></th>\n",
       "      <th></th>\n",
       "      <th></th>\n",
       "      <th></th>\n",
       "    </tr>\n",
       "  </thead>\n",
       "  <tbody>\n",
       "    <tr>\n",
       "      <td>8724</td>\n",
       "      <td>Technology</td>\n",
       "      <td>region_26</td>\n",
       "      <td>Bachelor's</td>\n",
       "      <td>sourcing</td>\n",
       "      <td>1</td>\n",
       "      <td>24</td>\n",
       "      <td>NaN</td>\n",
       "      <td>1</td>\n",
       "      <td>1</td>\n",
       "      <td>0</td>\n",
       "      <td>77</td>\n",
       "    </tr>\n",
       "    <tr>\n",
       "      <td>74430</td>\n",
       "      <td>HR</td>\n",
       "      <td>region_4</td>\n",
       "      <td>Bachelor's</td>\n",
       "      <td>other</td>\n",
       "      <td>1</td>\n",
       "      <td>31</td>\n",
       "      <td>3.0</td>\n",
       "      <td>5</td>\n",
       "      <td>0</td>\n",
       "      <td>0</td>\n",
       "      <td>51</td>\n",
       "    </tr>\n",
       "    <tr>\n",
       "      <td>72255</td>\n",
       "      <td>Sales &amp; Marketing</td>\n",
       "      <td>region_13</td>\n",
       "      <td>Bachelor's</td>\n",
       "      <td>other</td>\n",
       "      <td>1</td>\n",
       "      <td>31</td>\n",
       "      <td>1.0</td>\n",
       "      <td>4</td>\n",
       "      <td>0</td>\n",
       "      <td>0</td>\n",
       "      <td>47</td>\n",
       "    </tr>\n",
       "    <tr>\n",
       "      <td>38562</td>\n",
       "      <td>Procurement</td>\n",
       "      <td>region_2</td>\n",
       "      <td>Bachelor's</td>\n",
       "      <td>other</td>\n",
       "      <td>3</td>\n",
       "      <td>31</td>\n",
       "      <td>2.0</td>\n",
       "      <td>9</td>\n",
       "      <td>0</td>\n",
       "      <td>0</td>\n",
       "      <td>65</td>\n",
       "    </tr>\n",
       "    <tr>\n",
       "      <td>64486</td>\n",
       "      <td>Finance</td>\n",
       "      <td>region_29</td>\n",
       "      <td>Bachelor's</td>\n",
       "      <td>sourcing</td>\n",
       "      <td>1</td>\n",
       "      <td>30</td>\n",
       "      <td>4.0</td>\n",
       "      <td>7</td>\n",
       "      <td>0</td>\n",
       "      <td>0</td>\n",
       "      <td>61</td>\n",
       "    </tr>\n",
       "  </tbody>\n",
       "</table>\n",
       "</div>"
      ],
      "text/plain": [
       "                    department     region   education recruitment_channel  \\\n",
       "employee_id                                                                 \n",
       "8724                Technology  region_26  Bachelor's            sourcing   \n",
       "74430                       HR   region_4  Bachelor's               other   \n",
       "72255        Sales & Marketing  region_13  Bachelor's               other   \n",
       "38562              Procurement   region_2  Bachelor's               other   \n",
       "64486                  Finance  region_29  Bachelor's            sourcing   \n",
       "\n",
       "             no_of_trainings  age  previous_year_rating  length_of_service  \\\n",
       "employee_id                                                                  \n",
       "8724                       1   24                   NaN                  1   \n",
       "74430                      1   31                   3.0                  5   \n",
       "72255                      1   31                   1.0                  4   \n",
       "38562                      3   31                   2.0                  9   \n",
       "64486                      1   30                   4.0                  7   \n",
       "\n",
       "             KPIs_met >80%  awards_won?  avg_training_score  \n",
       "employee_id                                                  \n",
       "8724                     1            0                  77  \n",
       "74430                    0            0                  51  \n",
       "72255                    0            0                  47  \n",
       "38562                    0            0                  65  \n",
       "64486                    0            0                  61  "
      ]
     },
     "execution_count": 50,
     "metadata": {},
     "output_type": "execute_result"
    }
   ],
   "source": [
    "hr_test1.head()"
   ]
  },
  {
   "cell_type": "code",
   "execution_count": 51,
   "metadata": {},
   "outputs": [
    {
     "data": {
      "text/plain": [
       "department                 0\n",
       "region                     0\n",
       "education               1034\n",
       "recruitment_channel        0\n",
       "no_of_trainings            0\n",
       "age                        0\n",
       "previous_year_rating    1812\n",
       "length_of_service          0\n",
       "KPIs_met >80%              0\n",
       "awards_won?                0\n",
       "avg_training_score         0\n",
       "dtype: int64"
      ]
     },
     "execution_count": 51,
     "metadata": {},
     "output_type": "execute_result"
    }
   ],
   "source": [
    "hr_test1.isnull().sum()"
   ]
  },
  {
   "cell_type": "code",
   "execution_count": 52,
   "metadata": {},
   "outputs": [
    {
     "data": {
      "text/plain": [
       "\"Bachelor's\""
      ]
     },
     "execution_count": 52,
     "metadata": {},
     "output_type": "execute_result"
    }
   ],
   "source": [
    "hr_test1['education'].mode()[0]"
   ]
  },
  {
   "cell_type": "code",
   "execution_count": 53,
   "metadata": {},
   "outputs": [],
   "source": [
    "hr_test1['education'].fillna(hr_test1['education'].mode()[0],inplace = True)\n",
    "hr_test1['previous_year_rating'].fillna(0,inplace = True)"
   ]
  },
  {
   "cell_type": "code",
   "execution_count": 54,
   "metadata": {},
   "outputs": [
    {
     "data": {
      "text/plain": [
       "department              0\n",
       "region                  0\n",
       "education               0\n",
       "recruitment_channel     0\n",
       "no_of_trainings         0\n",
       "age                     0\n",
       "previous_year_rating    0\n",
       "length_of_service       0\n",
       "KPIs_met >80%           0\n",
       "awards_won?             0\n",
       "avg_training_score      0\n",
       "dtype: int64"
      ]
     },
     "execution_count": 54,
     "metadata": {},
     "output_type": "execute_result"
    }
   ],
   "source": [
    "hr_test1.isnull().sum()"
   ]
  },
  {
   "cell_type": "code",
   "execution_count": 55,
   "metadata": {},
   "outputs": [],
   "source": [
    "for x in colname:\n",
    "        hr_test1[x]=le.fit_transform(hr_test1[x])"
   ]
  },
  {
   "cell_type": "code",
   "execution_count": 56,
   "metadata": {},
   "outputs": [
    {
     "data": {
      "text/html": [
       "<div>\n",
       "<style scoped>\n",
       "    .dataframe tbody tr th:only-of-type {\n",
       "        vertical-align: middle;\n",
       "    }\n",
       "\n",
       "    .dataframe tbody tr th {\n",
       "        vertical-align: top;\n",
       "    }\n",
       "\n",
       "    .dataframe thead th {\n",
       "        text-align: right;\n",
       "    }\n",
       "</style>\n",
       "<table border=\"1\" class=\"dataframe\">\n",
       "  <thead>\n",
       "    <tr style=\"text-align: right;\">\n",
       "      <th></th>\n",
       "      <th>department</th>\n",
       "      <th>region</th>\n",
       "      <th>education</th>\n",
       "      <th>recruitment_channel</th>\n",
       "      <th>no_of_trainings</th>\n",
       "      <th>age</th>\n",
       "      <th>previous_year_rating</th>\n",
       "      <th>length_of_service</th>\n",
       "      <th>KPIs_met &gt;80%</th>\n",
       "      <th>awards_won?</th>\n",
       "      <th>avg_training_score</th>\n",
       "    </tr>\n",
       "    <tr>\n",
       "      <th>employee_id</th>\n",
       "      <th></th>\n",
       "      <th></th>\n",
       "      <th></th>\n",
       "      <th></th>\n",
       "      <th></th>\n",
       "      <th></th>\n",
       "      <th></th>\n",
       "      <th></th>\n",
       "      <th></th>\n",
       "      <th></th>\n",
       "      <th></th>\n",
       "    </tr>\n",
       "  </thead>\n",
       "  <tbody>\n",
       "    <tr>\n",
       "      <td>8724</td>\n",
       "      <td>8</td>\n",
       "      <td>18</td>\n",
       "      <td>0</td>\n",
       "      <td>2</td>\n",
       "      <td>1</td>\n",
       "      <td>24</td>\n",
       "      <td>0.0</td>\n",
       "      <td>1</td>\n",
       "      <td>1</td>\n",
       "      <td>0</td>\n",
       "      <td>77</td>\n",
       "    </tr>\n",
       "    <tr>\n",
       "      <td>74430</td>\n",
       "      <td>2</td>\n",
       "      <td>28</td>\n",
       "      <td>0</td>\n",
       "      <td>0</td>\n",
       "      <td>1</td>\n",
       "      <td>31</td>\n",
       "      <td>3.0</td>\n",
       "      <td>5</td>\n",
       "      <td>0</td>\n",
       "      <td>0</td>\n",
       "      <td>51</td>\n",
       "    </tr>\n",
       "    <tr>\n",
       "      <td>72255</td>\n",
       "      <td>7</td>\n",
       "      <td>4</td>\n",
       "      <td>0</td>\n",
       "      <td>0</td>\n",
       "      <td>1</td>\n",
       "      <td>31</td>\n",
       "      <td>1.0</td>\n",
       "      <td>4</td>\n",
       "      <td>0</td>\n",
       "      <td>0</td>\n",
       "      <td>47</td>\n",
       "    </tr>\n",
       "    <tr>\n",
       "      <td>38562</td>\n",
       "      <td>5</td>\n",
       "      <td>11</td>\n",
       "      <td>0</td>\n",
       "      <td>0</td>\n",
       "      <td>3</td>\n",
       "      <td>31</td>\n",
       "      <td>2.0</td>\n",
       "      <td>9</td>\n",
       "      <td>0</td>\n",
       "      <td>0</td>\n",
       "      <td>65</td>\n",
       "    </tr>\n",
       "    <tr>\n",
       "      <td>64486</td>\n",
       "      <td>1</td>\n",
       "      <td>21</td>\n",
       "      <td>0</td>\n",
       "      <td>2</td>\n",
       "      <td>1</td>\n",
       "      <td>30</td>\n",
       "      <td>4.0</td>\n",
       "      <td>7</td>\n",
       "      <td>0</td>\n",
       "      <td>0</td>\n",
       "      <td>61</td>\n",
       "    </tr>\n",
       "  </tbody>\n",
       "</table>\n",
       "</div>"
      ],
      "text/plain": [
       "             department  region  education  recruitment_channel  \\\n",
       "employee_id                                                       \n",
       "8724                  8      18          0                    2   \n",
       "74430                 2      28          0                    0   \n",
       "72255                 7       4          0                    0   \n",
       "38562                 5      11          0                    0   \n",
       "64486                 1      21          0                    2   \n",
       "\n",
       "             no_of_trainings  age  previous_year_rating  length_of_service  \\\n",
       "employee_id                                                                  \n",
       "8724                       1   24                   0.0                  1   \n",
       "74430                      1   31                   3.0                  5   \n",
       "72255                      1   31                   1.0                  4   \n",
       "38562                      3   31                   2.0                  9   \n",
       "64486                      1   30                   4.0                  7   \n",
       "\n",
       "             KPIs_met >80%  awards_won?  avg_training_score  \n",
       "employee_id                                                  \n",
       "8724                     1            0                  77  \n",
       "74430                    0            0                  51  \n",
       "72255                    0            0                  47  \n",
       "38562                    0            0                  65  \n",
       "64486                    0            0                  61  "
      ]
     },
     "execution_count": 56,
     "metadata": {},
     "output_type": "execute_result"
    }
   ],
   "source": [
    "hr_test1.head()"
   ]
  },
  {
   "cell_type": "code",
   "execution_count": 57,
   "metadata": {},
   "outputs": [],
   "source": [
    "X2 = hr_test1.values[:,:]"
   ]
  },
  {
   "cell_type": "code",
   "execution_count": 58,
   "metadata": {},
   "outputs": [
    {
     "data": {
      "text/plain": [
       "54808"
      ]
     },
     "execution_count": 58,
     "metadata": {},
     "output_type": "execute_result"
    }
   ],
   "source": [
    "len(X)"
   ]
  },
  {
   "cell_type": "code",
   "execution_count": 59,
   "metadata": {},
   "outputs": [
    {
     "data": {
      "text/plain": [
       "department                int32\n",
       "region                    int32\n",
       "education                 int32\n",
       "recruitment_channel       int32\n",
       "no_of_trainings           int64\n",
       "age                       int64\n",
       "previous_year_rating    float64\n",
       "length_of_service         int64\n",
       "KPIs_met >80%             int64\n",
       "awards_won?               int64\n",
       "avg_training_score        int64\n",
       "dtype: object"
      ]
     },
     "execution_count": 59,
     "metadata": {},
     "output_type": "execute_result"
    }
   ],
   "source": [
    "hr_test1.dtypes"
   ]
  },
  {
   "cell_type": "code",
   "execution_count": 60,
   "metadata": {},
   "outputs": [
    {
     "name": "stdout",
     "output_type": "stream",
     "text": [
      "[[ 1.19698231  0.27960461 -0.65882154 ...  0.98195379 -0.2672541\n",
      "   0.69048007]\n",
      " [-1.1791871   1.42201038 -0.65882154 ... -1.01837786 -0.2672541\n",
      "  -1.10005965]\n",
      " [ 0.80095407 -1.31976347 -0.65882154 ... -1.01837786 -0.2672541\n",
      "  -1.3755273 ]\n",
      " ...\n",
      " [-1.1791871  -0.97704174 -0.65882154 ... -1.01837786 -0.2672541\n",
      "  -1.16892656]\n",
      " [ 0.0088976   0.96504807 -0.65882154 ... -1.01837786 -0.2672541\n",
      "   0.20841169]\n",
      " [ 1.19698231 -0.86280116  1.54534627 ...  0.98195379 -0.2672541\n",
      "   1.51688303]]\n"
     ]
    }
   ],
   "source": [
    "X3 = scaler.transform(X2)\n",
    "print(X3)"
   ]
  },
  {
   "cell_type": "code",
   "execution_count": 61,
   "metadata": {},
   "outputs": [],
   "source": [
    "Y_pred_rft = random_for.predict(X3)"
   ]
  },
  {
   "cell_type": "code",
   "execution_count": 62,
   "metadata": {},
   "outputs": [],
   "source": [
    "hr_test1['Promoted'] = Y_pred_rft.astype(int)"
   ]
  },
  {
   "cell_type": "code",
   "execution_count": 63,
   "metadata": {},
   "outputs": [
    {
     "data": {
      "text/html": [
       "<div>\n",
       "<style scoped>\n",
       "    .dataframe tbody tr th:only-of-type {\n",
       "        vertical-align: middle;\n",
       "    }\n",
       "\n",
       "    .dataframe tbody tr th {\n",
       "        vertical-align: top;\n",
       "    }\n",
       "\n",
       "    .dataframe thead th {\n",
       "        text-align: right;\n",
       "    }\n",
       "</style>\n",
       "<table border=\"1\" class=\"dataframe\">\n",
       "  <thead>\n",
       "    <tr style=\"text-align: right;\">\n",
       "      <th></th>\n",
       "      <th>department</th>\n",
       "      <th>region</th>\n",
       "      <th>education</th>\n",
       "      <th>recruitment_channel</th>\n",
       "      <th>no_of_trainings</th>\n",
       "      <th>age</th>\n",
       "      <th>previous_year_rating</th>\n",
       "      <th>length_of_service</th>\n",
       "      <th>KPIs_met &gt;80%</th>\n",
       "      <th>awards_won?</th>\n",
       "      <th>avg_training_score</th>\n",
       "      <th>Promoted</th>\n",
       "    </tr>\n",
       "    <tr>\n",
       "      <th>employee_id</th>\n",
       "      <th></th>\n",
       "      <th></th>\n",
       "      <th></th>\n",
       "      <th></th>\n",
       "      <th></th>\n",
       "      <th></th>\n",
       "      <th></th>\n",
       "      <th></th>\n",
       "      <th></th>\n",
       "      <th></th>\n",
       "      <th></th>\n",
       "      <th></th>\n",
       "    </tr>\n",
       "  </thead>\n",
       "  <tbody>\n",
       "    <tr>\n",
       "      <td>8724</td>\n",
       "      <td>8</td>\n",
       "      <td>18</td>\n",
       "      <td>0</td>\n",
       "      <td>2</td>\n",
       "      <td>1</td>\n",
       "      <td>24</td>\n",
       "      <td>0.0</td>\n",
       "      <td>1</td>\n",
       "      <td>1</td>\n",
       "      <td>0</td>\n",
       "      <td>77</td>\n",
       "      <td>0</td>\n",
       "    </tr>\n",
       "    <tr>\n",
       "      <td>74430</td>\n",
       "      <td>2</td>\n",
       "      <td>28</td>\n",
       "      <td>0</td>\n",
       "      <td>0</td>\n",
       "      <td>1</td>\n",
       "      <td>31</td>\n",
       "      <td>3.0</td>\n",
       "      <td>5</td>\n",
       "      <td>0</td>\n",
       "      <td>0</td>\n",
       "      <td>51</td>\n",
       "      <td>0</td>\n",
       "    </tr>\n",
       "    <tr>\n",
       "      <td>72255</td>\n",
       "      <td>7</td>\n",
       "      <td>4</td>\n",
       "      <td>0</td>\n",
       "      <td>0</td>\n",
       "      <td>1</td>\n",
       "      <td>31</td>\n",
       "      <td>1.0</td>\n",
       "      <td>4</td>\n",
       "      <td>0</td>\n",
       "      <td>0</td>\n",
       "      <td>47</td>\n",
       "      <td>0</td>\n",
       "    </tr>\n",
       "    <tr>\n",
       "      <td>38562</td>\n",
       "      <td>5</td>\n",
       "      <td>11</td>\n",
       "      <td>0</td>\n",
       "      <td>0</td>\n",
       "      <td>3</td>\n",
       "      <td>31</td>\n",
       "      <td>2.0</td>\n",
       "      <td>9</td>\n",
       "      <td>0</td>\n",
       "      <td>0</td>\n",
       "      <td>65</td>\n",
       "      <td>0</td>\n",
       "    </tr>\n",
       "    <tr>\n",
       "      <td>64486</td>\n",
       "      <td>1</td>\n",
       "      <td>21</td>\n",
       "      <td>0</td>\n",
       "      <td>2</td>\n",
       "      <td>1</td>\n",
       "      <td>30</td>\n",
       "      <td>4.0</td>\n",
       "      <td>7</td>\n",
       "      <td>0</td>\n",
       "      <td>0</td>\n",
       "      <td>61</td>\n",
       "      <td>0</td>\n",
       "    </tr>\n",
       "  </tbody>\n",
       "</table>\n",
       "</div>"
      ],
      "text/plain": [
       "             department  region  education  recruitment_channel  \\\n",
       "employee_id                                                       \n",
       "8724                  8      18          0                    2   \n",
       "74430                 2      28          0                    0   \n",
       "72255                 7       4          0                    0   \n",
       "38562                 5      11          0                    0   \n",
       "64486                 1      21          0                    2   \n",
       "\n",
       "             no_of_trainings  age  previous_year_rating  length_of_service  \\\n",
       "employee_id                                                                  \n",
       "8724                       1   24                   0.0                  1   \n",
       "74430                      1   31                   3.0                  5   \n",
       "72255                      1   31                   1.0                  4   \n",
       "38562                      3   31                   2.0                  9   \n",
       "64486                      1   30                   4.0                  7   \n",
       "\n",
       "             KPIs_met >80%  awards_won?  avg_training_score  Promoted  \n",
       "employee_id                                                            \n",
       "8724                     1            0                  77         0  \n",
       "74430                    0            0                  51         0  \n",
       "72255                    0            0                  47         0  \n",
       "38562                    0            0                  65         0  \n",
       "64486                    0            0                  61         0  "
      ]
     },
     "execution_count": 63,
     "metadata": {},
     "output_type": "execute_result"
    }
   ],
   "source": [
    "hr_test1.head()"
   ]
  },
  {
   "cell_type": "code",
   "execution_count": 64,
   "metadata": {},
   "outputs": [],
   "source": [
    "hr_test1['Promoted']= hr_test1['Promoted'].map({1: 'Yes', 0: 'No'})     \n",
    "hr_test1.to_csv('Final Prediction.csv')"
   ]
  },
  {
   "cell_type": "code",
   "execution_count": 66,
   "metadata": {},
   "outputs": [
    {
     "data": {
      "text/plain": [
       "<matplotlib.axes._subplots.AxesSubplot at 0x23cd866e608>"
      ]
     },
     "execution_count": 66,
     "metadata": {},
     "output_type": "execute_result"
    },
    {
     "data": {
      "image/png": "[encoded data removed]",
      "text/plain": [
       "<Figure size 432x288 with 1 Axes>"
      ]
     },
     "metadata": {
      "needs_background": "light"
     },
     "output_type": "display_data"
    }
   ],
   "source": [
    "sns.countplot(x = \"Promoted\", data = hr_test1)"
   ]
  },
  {
   "cell_type": "code",
   "execution_count": 67,
   "metadata": {},
   "outputs": [
    {
     "data": {
      "text/plain": [
       "No     21849\n",
       "Yes     1641\n",
       "Name: Promoted, dtype: int64"
      ]
     },
     "execution_count": 67,
     "metadata": {},
     "output_type": "execute_result"
    }
   ],
   "source": [
    "hr_test1['Promoted'].value_counts()"
   ]
  },
  {
   "cell_type": "code",
   "execution_count": null,
   "metadata": {},
   "outputs": [],
   "source": []
  },
  {
   "cell_type": "markdown",
   "metadata": {},
   "source": [
    "# ANN - MLP Classifier"
   ]
  },
  {
   "cell_type": "code",
   "execution_count": 69,
   "metadata": {},
   "outputs": [
    {
     "name": "stdout",
     "output_type": "stream",
     "text": [
      "Iteration 1, loss = 0.49353556\n",
      "Validation score: 0.759687\n",
      "Iteration 2, loss = 0.44496514\n",
      "Validation score: 0.787892\n",
      "Iteration 3, loss = 0.41774846\n",
      "Validation score: 0.799288\n",
      "Iteration 4, loss = 0.39958101\n",
      "Validation score: 0.796724\n",
      "Iteration 5, loss = 0.38543961\n",
      "Validation score: 0.811538\n",
      "Iteration 6, loss = 0.37606174\n",
      "Validation score: 0.818091\n",
      "Iteration 7, loss = 0.36970200\n",
      "Validation score: 0.811254\n",
      "Iteration 8, loss = 0.36471271\n",
      "Validation score: 0.817664\n",
      "Iteration 9, loss = 0.36296416\n",
      "Validation score: 0.803561\n",
      "Iteration 10, loss = 0.36004489\n",
      "Validation score: 0.813960\n",
      "Iteration 11, loss = 0.35759419\n",
      "Validation score: 0.813675\n",
      "Iteration 12, loss = 0.35636087\n",
      "Validation score: 0.818234\n",
      "Iteration 13, loss = 0.35492332\n",
      "Validation score: 0.820228\n",
      "Iteration 14, loss = 0.35287140\n",
      "Validation score: 0.820228\n",
      "Iteration 15, loss = 0.35227568\n",
      "Validation score: 0.822222\n",
      "Iteration 16, loss = 0.35042860\n",
      "Validation score: 0.818661\n",
      "Iteration 17, loss = 0.34996458\n",
      "Validation score: 0.811681\n",
      "Iteration 18, loss = 0.34948839\n",
      "Validation score: 0.824074\n",
      "Iteration 19, loss = 0.34726354\n",
      "Validation score: 0.818661\n",
      "Iteration 20, loss = 0.34726963\n",
      "Validation score: 0.820228\n",
      "Iteration 21, loss = 0.34618613\n",
      "Validation score: 0.821937\n",
      "Iteration 22, loss = 0.34667518\n",
      "Validation score: 0.821937\n",
      "Iteration 23, loss = 0.34453053\n",
      "Validation score: 0.825214\n",
      "Iteration 24, loss = 0.34490533\n",
      "Validation score: 0.822507\n",
      "Iteration 25, loss = 0.34370016\n",
      "Validation score: 0.822222\n",
      "Iteration 26, loss = 0.34177956\n",
      "Validation score: 0.827208\n",
      "Iteration 27, loss = 0.34119231\n",
      "Validation score: 0.827635\n",
      "Iteration 28, loss = 0.34043037\n",
      "Validation score: 0.813105\n",
      "Iteration 29, loss = 0.33936479\n",
      "Validation score: 0.825499\n",
      "Iteration 30, loss = 0.34083214\n",
      "Validation score: 0.808547\n",
      "Iteration 31, loss = 0.33983457\n",
      "Validation score: 0.820370\n",
      "Iteration 32, loss = 0.33780043\n",
      "Validation score: 0.807692\n",
      "Iteration 33, loss = 0.33683694\n",
      "Validation score: 0.824929\n",
      "Validation score did not improve more than tol=0.000100 for 5 consecutive epochs. Stopping.\n"
     ]
    }
   ],
   "source": [
    "from sklearn.neural_network import MLPClassifier\n",
    "\n",
    "mlp = MLPClassifier(hidden_layer_sizes = (100),\n",
    "                    max_iter = 100,\n",
    "                    early_stopping = True,\n",
    "                    random_state = 10,\n",
    "                    activation = \"relu\",\n",
    "                    solver = \"adam\",\n",
    "                    learning_rate = \"constant\",\n",
    "                    learning_rate_init = 0.01, \n",
    "                    verbose = True,\n",
    "                    n_iter_no_change = 5)\n",
    "\n",
    "mlp.fit(X_train1, Y_train1)\n",
    "Y_pred = mlp.predict(X_test1)"
   ]
  },
  {
   "cell_type": "code",
   "execution_count": 71,
   "metadata": {},
   "outputs": [
    {
     "name": "stdout",
     "output_type": "stream",
     "text": [
      "[[10788  4227]\n",
      " [  910 14159]]\n",
      "Classification_report :\n",
      "              precision    recall  f1-score   support\n",
      "\n",
      "         0.0       0.92      0.72      0.81     15015\n",
      "         1.0       0.77      0.94      0.85     15069\n",
      "\n",
      "    accuracy                           0.83     30084\n",
      "   macro avg       0.85      0.83      0.83     30084\n",
      "weighted avg       0.85      0.83      0.83     30084\n",
      "\n",
      "accuracy_score : 0.8292447812790852\n"
     ]
    }
   ],
   "source": [
    "from sklearn.metrics import confusion_matrix,accuracy_score,classification_report\n",
    "\n",
    "cfm=confusion_matrix(Y_test1,Y_pred)\n",
    "print(cfm)\n",
    "\n",
    "print(\"Classification_report :\")\n",
    "print(classification_report(Y_test1,Y_pred))\n",
    "\n",
    "acc=accuracy_score(Y_test1,Y_pred)\n",
    "print(\"accuracy_score :\",acc)"
   ]
  },
  {
   "cell_type": "markdown",
   "metadata": {},
   "source": [
    "# GRID SEARCH CV"
   ]
  },
  {
   "cell_type": "code",
   "execution_count": 72,
   "metadata": {},
   "outputs": [],
   "source": [
    "mlp_gs = MLPClassifier(max_iter=100,early_stopping=True,n_iter_no_change=5,\n",
    "random_state=10,learning_rate_init=0.01,\n",
    "verbose=True )\n",
    "parameter_space = {\n",
    "'hidden_layer_sizes': [(12,12,12),(10,10)],\n",
    "'activation': ['tanh', 'relu'],\n",
    "'solver': ['sgd', 'adam'],\n",
    "'alpha': [0.0001, 0.01],\n",
    "'learning_rate': ['constant']\n",
    "}\n",
    "from sklearn.model_selection import GridSearchCV\n",
    "clf = GridSearchCV(mlp_gs, parameter_space, n_jobs=-1, cv=5)"
   ]
  },
  {
   "cell_type": "code",
   "execution_count": 73,
   "metadata": {},
   "outputs": [
    {
     "name": "stdout",
     "output_type": "stream",
     "text": [
      "Iteration 1, loss = 0.50036045\n",
      "Validation score: 0.774644\n",
      "Iteration 2, loss = 0.41293006\n",
      "Validation score: 0.810969\n",
      "Iteration 3, loss = 0.38576882\n",
      "Validation score: 0.812821\n",
      "Iteration 4, loss = 0.37153351\n",
      "Validation score: 0.814957\n",
      "Iteration 5, loss = 0.36771607\n",
      "Validation score: 0.816097\n",
      "Iteration 6, loss = 0.36586634\n",
      "Validation score: 0.820655\n",
      "Iteration 7, loss = 0.36278737\n",
      "Validation score: 0.821510\n",
      "Iteration 8, loss = 0.36018440\n",
      "Validation score: 0.817949\n",
      "Iteration 9, loss = 0.35898431\n",
      "Validation score: 0.819801\n",
      "Iteration 10, loss = 0.35834264\n",
      "Validation score: 0.821083\n",
      "Iteration 11, loss = 0.35790253\n",
      "Validation score: 0.819516\n",
      "Iteration 12, loss = 0.35586844\n",
      "Validation score: 0.822365\n",
      "Iteration 13, loss = 0.35558282\n",
      "Validation score: 0.819231\n",
      "Iteration 14, loss = 0.35517769\n",
      "Validation score: 0.822080\n",
      "Iteration 15, loss = 0.35401783\n",
      "Validation score: 0.823362\n",
      "Iteration 16, loss = 0.35392931\n",
      "Validation score: 0.823077\n",
      "Iteration 17, loss = 0.35348483\n",
      "Validation score: 0.819801\n",
      "Iteration 18, loss = 0.35239868\n",
      "Validation score: 0.823362\n",
      "Iteration 19, loss = 0.35177169\n",
      "Validation score: 0.822792\n",
      "Iteration 20, loss = 0.35291663\n",
      "Validation score: 0.824074\n",
      "Iteration 21, loss = 0.35206878\n",
      "Validation score: 0.822792\n",
      "Iteration 22, loss = 0.35060135\n",
      "Validation score: 0.824644\n",
      "Iteration 23, loss = 0.35054489\n",
      "Validation score: 0.820370\n",
      "Iteration 24, loss = 0.35029928\n",
      "Validation score: 0.821510\n",
      "Iteration 25, loss = 0.35074498\n",
      "Validation score: 0.821368\n",
      "Iteration 26, loss = 0.35011802\n",
      "Validation score: 0.822507\n",
      "Iteration 27, loss = 0.34965398\n",
      "Validation score: 0.822365\n",
      "Iteration 28, loss = 0.35033670\n",
      "Validation score: 0.823219\n",
      "Validation score did not improve more than tol=0.000100 for 5 consecutive epochs. Stopping.\n"
     ]
    },
    {
     "data": {
      "text/plain": [
       "GridSearchCV(cv=5,\n",
       "             estimator=MLPClassifier(early_stopping=True,\n",
       "                                     learning_rate_init=0.01, max_iter=100,\n",
       "                                     n_iter_no_change=5, random_state=10,\n",
       "                                     verbose=True),\n",
       "             n_jobs=-1,\n",
       "             param_grid={'activation': ['tanh', 'relu'],\n",
       "                         'alpha': [0.0001, 0.01],\n",
       "                         'hidden_layer_sizes': [(12, 12, 12), (10, 10)],\n",
       "                         'learning_rate': ['constant'],\n",
       "                         'solver': ['sgd', 'adam']})"
      ]
     },
     "execution_count": 73,
     "metadata": {},
     "output_type": "execute_result"
    }
   ],
   "source": [
    "clf.fit(X_train1,Y_train1)"
   ]
  },
  {
   "cell_type": "code",
   "execution_count": 74,
   "metadata": {},
   "outputs": [
    {
     "name": "stdout",
     "output_type": "stream",
     "text": [
      "Best parameters found:\n",
      " {'activation': 'relu', 'alpha': 0.0001, 'hidden_layer_sizes': (12, 12, 12), 'learning_rate': 'constant', 'solver': 'adam'}\n"
     ]
    }
   ],
   "source": [
    "print('Best parameters found:\\n', clf.best_params_)"
   ]
  },
  {
   "cell_type": "code",
   "execution_count": 78,
   "metadata": {},
   "outputs": [],
   "source": [
    "Y_pred_cv = clf.predict(X_test1)\n",
    "#print(list(zip(Y_test,Y_pred)))"
   ]
  },
  {
   "cell_type": "code",
   "execution_count": 79,
   "metadata": {},
   "outputs": [
    {
     "name": "stdout",
     "output_type": "stream",
     "text": [
      "[[10411  4604]\n",
      " [  734 14335]]\n",
      "Classification_report :\n",
      "              precision    recall  f1-score   support\n",
      "\n",
      "         0.0       0.93      0.69      0.80     15015\n",
      "         1.0       0.76      0.95      0.84     15069\n",
      "\n",
      "    accuracy                           0.82     30084\n",
      "   macro avg       0.85      0.82      0.82     30084\n",
      "weighted avg       0.85      0.82      0.82     30084\n",
      "\n",
      "accuracy_score : 0.822563488897753\n"
     ]
    }
   ],
   "source": [
    "from sklearn.metrics import confusion_matrix,accuracy_score,classification_report\n",
    "\n",
    "cfm=confusion_matrix(Y_test1,Y_pred_cv)\n",
    "print(cfm)\n",
    "\n",
    "print(\"Classification_report :\")\n",
    "print(classification_report(Y_test1,Y_pred_cv))\n",
    "\n",
    "acc=accuracy_score(Y_test1,Y_pred_cv)\n",
    "print(\"accuracy_score :\",acc)"
   ]
  },
  {
   "cell_type": "code",
   "execution_count": null,
   "metadata": {},
   "outputs": [],
   "source": []
  },
  {
   "cell_type": "code",
   "execution_count": null,
   "metadata": {},
   "outputs": [],
   "source": []
  }
 ],
 "metadata": {
  "kernelspec": {
   "display_name": "Python 3",
   "language": "python",
   "name": "python3"
  },
  "language_info": {
   "codemirror_mode": {
    "name": "ipython",
    "version": 3
   },
   "file_extension": ".py",
   "mimetype": "text/x-python",
   "name": "python",
   "nbconvert_exporter": "python",
   "pygments_lexer": "ipython3",
   "version": "3.7.4"
  }
 },
 "nbformat": 4,
 "nbformat_minor": 2
}
